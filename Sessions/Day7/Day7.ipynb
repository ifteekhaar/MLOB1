{
  "cells": [
    {
      "cell_type": "markdown",
      "metadata": {},
      "source": [
        "# 🗂️ Day 7: File Handling & Exception Handling in Python\n",
        "\n",
        "---\n",
        "\n",
        "## 📚 Learning Objectives\n",
        "\n",
        "By the end of this session, you will be able to:\n",
        "\n",
        "🎯 **File Operations**\n",
        "- Read and write text files using different methods\n",
        "- Handle binary files effectively\n",
        "- Understand file modes and their applications\n",
        "\n",
        "🎯 **File Path Management**\n",
        "- Navigate and manipulate file paths across different operating systems\n",
        "- Use Python's `os` module for file system operations\n",
        "- Check file/directory existence and properties\n",
        "\n",
        "🎯 **Exception Handling**\n",
        "- Understand what exceptions are and why they occur\n",
        "- Use try-except blocks to handle errors gracefully\n",
        "- Implement finally blocks for cleanup operations\n",
        "- Combine file handling with proper exception handling\n",
        "\n",
        "---\n",
        "\n",
        "## 📖 Table of Contents\n",
        "\n",
        "1. [File Operations - Reading & Writing Files](#file-operations)\n",
        "2. [Working with File Paths](#file-paths)\n",
        "3. [Exception Handling](#exception-handling)\n",
        "4. [Practical Exercises](#exercises)\n",
        "5. [Summary & Next Steps](#summary)\n",
        "\n",
        "---\n"
      ]
    },
    {
      "cell_type": "markdown",
      "metadata": {},
      "source": [
        "# 📁 File Operations - Reading & Writing Files\n",
        "\n",
        "File handling is a fundamental skill in programming! Think of it like learning to read and write documents on your computer, but through code. \n",
        "\n",
        "## 🤔 Why File Handling Matters\n",
        "\n",
        "Imagine you're building an app that needs to:\n",
        "- 💾 Save user preferences\n",
        "- 📊 Read data from spreadsheets\n",
        "- 📝 Create log files\n",
        "- 🖼️ Process images or documents\n",
        "\n",
        "All of these require file handling!\n",
        "\n",
        "---\n",
        "\n",
        "## 🔍 Understanding File Modes\n",
        "\n",
        "Before we dive in, let's understand the different ways we can open files:\n",
        "\n",
        "| Mode | Symbol | What it does | Example Use Case |\n",
        "|------|--------|--------------|------------------|\n",
        "| **Read** | `'r'` | Opens file for reading only | Reading a configuration file |\n",
        "| **Write** | `'w'` | Opens file for writing (overwrites existing content) | Creating a new report |\n",
        "| **Append** | `'a'` | Opens file for writing (adds to end of file) | Adding entries to a log file |\n",
        "| **Read+Write** | `'r+'` | Opens file for both reading and writing | Updating a database file |\n",
        "| **Write+Read** | `'w+'` | Creates new file for reading and writing | Creating and immediately processing a file |\n",
        "| **Binary** | `'b'` | Used with other modes for binary files | `'rb'`, `'wb'` for images, videos |\n",
        "\n",
        "---\n"
      ]
    },
    {
      "cell_type": "markdown",
      "metadata": {},
      "source": [
        "## 📖 Reading Files\n",
        "\n",
        "### Method 1: Read the Entire File at Once\n",
        "\n",
        "This is like opening a book and reading the whole thing in one go!\n"
      ]
    },
    {
      "cell_type": "code",
      "execution_count": null,
      "metadata": {},
      "outputs": [
        {
          "name": "stdout",
          "output_type": "stream",
          "text": [
            "✅ Sample file created successfully!\n"
          ]
        }
      ],
      "source": [
        "# First, let's create a sample file to work with\n",
        "with open('sample.txt', 'w') as file:\n",
        "    file.write(\"Hello! Welcome to Python file handling!\\n\")\n",
        "    file.write(\"This is line 2 of our sample file.\\n\")\n",
        "    file.write(\"Learning Python is fun and exciting!\\n\")\n",
        "    file.write(\"Keep practicing and you'll master it!\\n\")\n",
        "\n",
        "print(\"✅ Sample file created successfully!\")\n"
      ]
    },
    {
      "cell_type": "code",
      "execution_count": null,
      "metadata": {},
      "outputs": [
        {
          "name": "stdout",
          "output_type": "stream",
          "text": [
            "📄 Complete file content:\n",
            "------------------------------\n",
            "Shaiful\n",
            "Ashraful\n",
            "Shahriar\n",
            "------------------------------\n",
            "📊 Total characters: 25\n"
          ]
        }
      ],
      "source": [
        "# Now let's read the entire file at once\n",
        "with open('sample.txt', 'r') as file:\n",
        "    content = file.read()\n",
        "    print(\"📄 Complete file content:\")\n",
        "    print(\"-\" * 30)\n",
        "    print(content)\n",
        "    print(\"-\" * 30)\n",
        "    print(f\"📊 Total characters: {len(content)}\")\n"
      ]
    },
    {
      "cell_type": "markdown",
      "metadata": {},
      "source": [
        "### Method 2: Read Line by Line\n",
        "\n",
        "This is like reading a book one line at a time - perfect for large files!\n"
      ]
    },
    {
      "cell_type": "code",
      "execution_count": 4,
      "metadata": {},
      "outputs": [
        {
          "name": "stdout",
          "output_type": "stream",
          "text": [
            "Total words: 7\n"
          ]
        }
      ],
      "source": [
        "text = \"Hello world! Welcome to Python file handling!\"\n",
        "words = text.split(\" \")\n",
        "print(f\"Total words: {len(words)}\")"
      ]
    },
    {
      "cell_type": "code",
      "execution_count": 8,
      "metadata": {},
      "outputs": [
        {
          "name": "stdout",
          "output_type": "stream",
          "text": [
            "📃 Reading line by line:\n",
            "------------------------------\n",
            " line number 1: Shaiful\n",
            " line number 2: Ashraful\n",
            " line number 3: Shahriar\n",
            "------------------------------\n",
            "💡 Notice how we process each line individually!\n"
          ]
        }
      ],
      "source": [
        "# Reading file line by line\n",
        "print(\"📃 Reading line by line:\")\n",
        "print(\"-\" * 30)\n",
        "\n",
        "with open('sample.txt', 'r') as file:\n",
        "    line_number = 1\n",
        "    for line in file:\n",
        "        # strip() removes the newline character at the end\n",
        "        clean_line = line.strip()\n",
        "        print(f\" line number {line_number}: {clean_line}\")\n",
        "        line_number += 1\n",
        "        \n",
        "        \n",
        "\n",
        "print(\"-\" * 30)\n",
        "print(\"💡 Notice how we process each line individually!\")\n"
      ]
    },
    {
      "cell_type": "markdown",
      "metadata": {},
      "source": [
        "## ✍️ Writing to Files\n",
        "\n",
        "### Method 1: Writing (Overwrite Mode)\n",
        "\n",
        "⚠️ **Important**: The `'w'` mode will completely replace the file content!\n"
      ]
    },
    {
      "cell_type": "code",
      "execution_count": 9,
      "metadata": {},
      "outputs": [
        {
          "name": "stdout",
          "output_type": "stream",
          "text": [
            "✅ New file created with write mode!\n",
            "\n",
            "📄 Content of new_file.txt:\n",
            "Hello World!\n",
            "This is a new line created with Python.\n",
            "File writing is powerful!\n",
            "\n"
          ]
        }
      ],
      "source": [
        "# Writing to a file (this will overwrite existing content)\n",
        "with open('new_file.txt', 'w') as file:\n",
        "    file.write('Hello World!\\n')\n",
        "    file.write('This is a new line created with Python.\\n')\n",
        "    file.write('File writing is powerful!\\n')\n",
        "\n",
        "print(\"✅ New file created with write mode!\")\n",
        "\n",
        "# Let's read it back to confirm\n",
        "with open('new_file.txt', 'r') as file:\n",
        "    content = file.read()\n",
        "    print(\"\\n📄 Content of new_file.txt:\")\n",
        "    print(content)\n"
      ]
    },
    {
      "cell_type": "code",
      "execution_count": 16,
      "metadata": {},
      "outputs": [],
      "source": [
        "with open('sample.txt', 'a') as file:\n",
        "    file.write(\"\\nShihab\")\n",
        "    file.write(\"\\nRakib\")\n",
        "    file.write(\"\\nArif\")\n",
        "\n",
        "    "
      ]
    },
    {
      "cell_type": "markdown",
      "metadata": {},
      "source": [
        "### Method 2: Appending to Files\n",
        "\n",
        "Think of append mode as adding new pages to the end of a book without removing existing pages!\n"
      ]
    },
    {
      "cell_type": "code",
      "execution_count": 14,
      "metadata": {},
      "outputs": [
        {
          "name": "stdout",
          "output_type": "stream",
          "text": [
            "📋 Before appending:\n",
            "Hello World!\n",
            "This is a new line created with Python.\n",
            "File writing is powerful!\n",
            "\n",
            "\n",
            "📋 After appending:\n",
            "Hello World!\n",
            "This is a new line created with Python.\n",
            "File writing is powerful!\n",
            "This line was appended!\n",
            "And so was this one!\n",
            "Append mode preserves existing content!\n",
            "\n"
          ]
        }
      ],
      "source": [
        "# Appending to a file (adds content without removing existing content)\n",
        "print(\"📋 Before appending:\")\n",
        "with open('new_file.txt', 'r') as file:\n",
        "    print(file.read())\n",
        "\n",
        "# Now let's append some content\n",
        "with open('new_file.txt', 'a') as file:\n",
        "    file.write(\"This line was appended!\\n\")\n",
        "    file.write(\"And so was this one!\\n\")\n",
        "    file.write(\"Append mode preserves existing content!\\n\")\n",
        "\n",
        "print(\"\\n📋 After appending:\")\n",
        "with open('new_file.txt', 'r') as file:\n",
        "    print(file.read())\n"
      ]
    },
    {
      "cell_type": "markdown",
      "metadata": {},
      "source": [
        "### Method 3: Writing Multiple Lines at Once\n",
        "\n",
        "Sometimes you have a list of things to write - Python makes this easy!\n"
      ]
    },
    {
      "cell_type": "code",
      "execution_count": 18,
      "metadata": {},
      "outputs": [
        {
          "name": "stdout",
          "output_type": "stream",
          "text": [
            "🛒 Shopping list created!\n"
          ]
        }
      ],
      "source": [
        "# Writing multiple lines using a list\n",
        "shopping_list = [\n",
        "    \"🍎 Apples\\n\",\n",
        "    \"🍌 Bananas\\n\", \n",
        "    \"🥛 Milk\\n\",\n",
        "    \"🍞 Bread\\n\",\n",
        "    \"🧀 Cheese\\n\"\n",
        "]\n",
        "\n",
        "# Write the shopping list to a file with UTF-8 encoding\n",
        "with open(\"shopping_list.txt\", \"w\", encoding='utf-8') as file:\n",
        "    file.writelines(shopping_list)\n",
        "\n",
        "print(\"🛒 Shopping list created!\")\n",
        "\n"
      ]
    },
    {
      "cell_type": "markdown",
      "metadata": {},
      "source": [
        "## 🔢 Working with Binary Files\n",
        "\n",
        "Binary files contain data in a format that isn't human-readable (like images, videos, or executables). Let's see how to handle them:\n"
      ]
    },
    {
      "cell_type": "code",
      "execution_count": 21,
      "metadata": {},
      "outputs": [
        {
          "name": "stdout",
          "output_type": "stream",
          "text": [
            "🔢 Working with binary files:\n",
            "✅ Binary file created!\n"
          ]
        }
      ],
      "source": [
        "# Working with binary data\n",
        "print(\"🔢 Working with binary files:\")\n",
        "\n",
        "# Creating some binary data (these are raw bytes)\n",
        "binary_data = b\"Hello\"  # This spells \"Hello\" in ASCII\n",
        "\n",
        "# Writing to a binary file\n",
        "with open('example.bin', 'wb') as file:\n",
        "    file.write(binary_data)\n",
        "\n",
        "print(\"✅ Binary file created!\")\n",
        "\n",
        "# # Reading from a binary file\n",
        "# with open('example.bin', 'rb') as file:\n",
        "#     content = file.read()\n",
        "#     print(f\"📊 Binary content: {content}\")\n",
        "#     print(f\"📝 Decoded as text: {content.decode('ascii')}\")\n",
        "#     print(f\"📏 Size: {len(content)} bytes\")\n"
      ]
    },
    {
      "cell_type": "markdown",
      "metadata": {},
      "source": [
        "## 🔄 Advanced File Operations\n",
        "\n",
        "### File Copying Made Easy\n"
      ]
    },
    {
      "cell_type": "code",
      "execution_count": null,
      "metadata": {},
      "outputs": [
        {
          "name": "stdout",
          "output_type": "stream",
          "text": [
            "📋 File copying example:\n",
            "✅ File copied successfully!\n"
          ]
        }
      ],
      "source": [
        "# Copying a file from source to destination\n",
        "print(\"📋 File copying example:\")\n",
        "\n",
        "# Read from source file\n",
        "with open('sample.txt', 'r') as source_file:\n",
        "    content = source_file.read()\n",
        "\n",
        "# Write to destination file\n",
        "with open('backup_sample.txt', 'w') as destination_file:\n",
        "    destination_file.write(content)\n",
        "\n",
        "print(\"✅ File copied successfully!\")\n"
      ]
    },
    {
      "cell_type": "markdown",
      "metadata": {},
      "source": [
        "### File Statistics Function\n",
        "\n",
        "Let's create a function that analyzes text files - this is super useful for data analysis!\n"
      ]
    },
    {
      "cell_type": "code",
      "execution_count": null,
      "metadata": {},
      "outputs": [
        {
          "name": "stdout",
          "output_type": "stream",
          "text": [
            "Total lines: 6, Total words: 9, Total characters: 53\n"
          ]
        }
      ],
      "source": [
        "# Create a function to analyze text files\n",
        "def analyze_text_file(file_path):\n",
        "    \"\"\"\n",
        "    Analyzes a text file and returns statistics about it.\n",
        "    \n",
        "    Args:\n",
        "        file_path (str): Path to the text file\n",
        "        \n",
        "    Returns:\n",
        "        tuple: (line_count, word_count, character_count)\n",
        "    \"\"\"\n",
        "    \n",
        "    with open(file_path, 'r', encoding='utf-8') as file:\n",
        "        total_words = 0\n",
        "        total_characters = 0\n",
        "        \n",
        "        lines =file.readlines()\n",
        "        \n",
        "        total_lines = len(lines)\n",
        "        \n",
        "        for line in lines:\n",
        "            total_words += len(line.split())\n",
        "            total_characters += len(line)\n",
        "        \n",
        "    return total_lines, total_words, total_characters\n",
        "        \n",
        "line, word, character = analyze_text_file('sample.txt')\n",
        "print(f\"Total lines: {line}, Total words: {word}, Total characters: {character}\")"
      ]
    },
    {
      "cell_type": "markdown",
      "metadata": {},
      "source": [
        "### Read and Write Mode (w+)\n",
        "\n",
        "The `w+` mode is special - it creates a new file for both reading and writing!\n"
      ]
    },
    {
      "cell_type": "code",
      "execution_count": 34,
      "metadata": {},
      "outputs": [
        {
          "name": "stdout",
          "output_type": "stream",
          "text": [
            "📝 Demonstrating w+ mode:\n",
            "✅ Content written to file\n",
            "\n",
            "📄 Content we just wrote:\n",
            "Hello from w+ mode! 🚀\n",
            "We can write and read in the same operation.\n",
            "This is pretty cool! 😎\n",
            "\n",
            "📍 Current cursor position: 99\n",
            "\n",
            "💡 The w+ mode is perfect when you need to create, write, and immediately process a file!\n"
          ]
        }
      ],
      "source": [
        "# Using w+ mode for reading and writing\n",
        "print(\"📝 Demonstrating w+ mode:\")\n",
        "\n",
        "with open('temp_file.txt', 'w+', encoding=\"utf-8\") as file:\n",
        "    # First, let's write some content\n",
        "    file.write(\"Hello from w+ mode! 🚀\\n\")\n",
        "    file.write(\"We can write and read in the same operation.\\n\")\n",
        "    file.write(\"This is pretty cool! 😎\\n\")\n",
        "    \n",
        "    print(\"✅ Content written to file\")\n",
        "    \n",
        "    # Move the file cursor to the beginning to read\n",
        "    file.seek(0)  # This is crucial - moves cursor to start\n",
        "    \n",
        "    # Now read the content we just wrote\n",
        "    content = file.read()\n",
        "    print(\"\\n📄 Content we just wrote:\")\n",
        "    print(content)\n",
        "    \n",
        "    # Let's also check the current cursor position\n",
        "    print(f\"📍 Current cursor position: {file.tell()}\")\n",
        "\n",
        "print(\"\\n💡 The w+ mode is perfect when you need to create, write, and immediately process a file!\")\n"
      ]
    },
    {
      "cell_type": "markdown",
      "metadata": {},
      "source": [
        "# 🗺️ Working with File Paths\n",
        "\n",
        "Think of file paths like addresses for your files! Just like you need an address to find a house, you need a path to find a file on your computer.\n",
        "\n",
        "## 🌐 Why File Paths Matter\n",
        "\n",
        "Different operating systems handle paths differently:\n",
        "- **Windows**: Uses backslashes `\\` (e.g., `C:\\Users\\John\\Documents\\file.txt`)\n",
        "- **Mac/Linux**: Uses forward slashes `/` (e.g., `/home/john/documents/file.txt`)\n",
        "\n",
        "Python's `os` module helps us work with paths in a way that works on all operating systems! 🎯\n",
        "\n",
        "---\n"
      ]
    },
    {
      "cell_type": "code",
      "execution_count": 43,
      "metadata": {},
      "outputs": [
        {
          "name": "stdout",
          "output_type": "stream",
          "text": [
            "Hi, how are you? \n"
          ]
        }
      ],
      "source": [
        "with open(r'D:/Temp/MLOB1/test.txt', 'r') as file:\n",
        "    print(file.read())"
      ]
    },
    {
      "cell_type": "markdown",
      "metadata": {},
      "source": [
        "## 📍 Finding Your Current Location\n"
      ]
    },
    {
      "cell_type": "code",
      "execution_count": null,
      "metadata": {},
      "outputs": [
        {
          "name": "stdout",
          "output_type": "stream",
          "text": [
            "📂 Current working directory: d:\\Temp\\MLOB1\\Sessions\\Day7\n",
            "🗂️ Directory parts: ['d:', 'Temp', 'MLOB1', 'Sessions', 'Day7']\n"
          ]
        }
      ],
      "source": [
        "import os\n",
        "\n",
        "# Get the current working directory (where your Python script is running)\n",
        "current_directory = os.getcwd()\n",
        "print(f\"📂 Current working directory: {current_directory}\")\n",
        "\n",
        "# This is like asking \"Where am I right now?\" in the file system\n",
        "print(f\"🗂️ Directory parts: {current_directory.split(os.sep)}\")\n"
      ]
    },
    {
      "cell_type": "markdown",
      "metadata": {},
      "source": [
        "## 📁 Creating Directories\n",
        "\n",
        "Let's create some folders to organize our files!\n"
      ]
    },
    {
      "cell_type": "code",
      "execution_count": 49,
      "metadata": {},
      "outputs": [],
      "source": [
        "# Create a new directory\n",
        "os.mkdir(\"my_python_files\")\n",
        "\n",
        "\n"
      ]
    },
    {
      "cell_type": "code",
      "execution_count": 51,
      "metadata": {},
      "outputs": [],
      "source": [
        "# Let's also create a nested directory structure\n",
        "nested_path = os.path.join(\"my_python_files\", \"projects\", \"DummyProject\")\n",
        "os.makedirs(nested_path, exist_ok=True)"
      ]
    },
    {
      "cell_type": "markdown",
      "metadata": {},
      "source": [
        "## 📋 Listing Directory Contents\n",
        "\n",
        "Let's explore what's inside our directories!\n"
      ]
    },
    {
      "cell_type": "code",
      "execution_count": 57,
      "metadata": {},
      "outputs": [
        {
          "name": "stdout",
          "output_type": "stream",
          "text": [
            "📋 Contents of current directory:\n",
            "----------------------------------------\n",
            "['backup_sample.txt', 'Day7.ipynb', 'example.bin', 'newfolder1', 'newfolder2', 'new_file.txt', 'sample.txt', 'shopping_list.txt', 'student_grades.txt', 'temp_file.txt']\n"
          ]
        }
      ],
      "source": [
        "# List all files and directories in the current directory\n",
        "items = os.listdir('.')\n",
        "print(\"📋 Contents of current directory:\")\n",
        "print(\"-\" * 40)\n",
        "print(items)"
      ]
    },
    {
      "cell_type": "code",
      "execution_count": 59,
      "metadata": {},
      "outputs": [
        {
          "name": "stdout",
          "output_type": "stream",
          "text": [
            "8\n",
            "2\n"
          ]
        }
      ],
      "source": [
        "\n",
        "\n",
        "\n",
        "# Count files vs directories\n",
        "print(len([item for item in items if os.path.isfile(item)])) \n",
        "print(len([item for item in items if os.path.isdir(item)]))\n"
      ]
    },
    {
      "cell_type": "markdown",
      "metadata": {},
      "source": [
        "## 🔗 Joining Paths Safely\n",
        "\n",
        "The `os.path.join()` function is your best friend for creating file paths that work on any operating system!\n"
      ]
    },
    {
      "cell_type": "code",
      "execution_count": 60,
      "metadata": {},
      "outputs": [
        {
          "name": "stdout",
          "output_type": "stream",
          "text": [
            "🔗 Path joining examples:\n",
            "==================================================\n",
            "📁 + 📄 = documents\\report.txt\n",
            "🗂️ Multi-level path: projects\\python\\day7\\exercises\\solution.py\n",
            "🏠 Full absolute path: d:\\Temp\\MLOB1\\Sessions\\Day7\\documents\\report.txt\n",
            "📊 Data file path: user_data\\2024\\march\\sales.csv\n",
            "==================================================\n",
            "💡 Notice how os.path.join() automatically uses the correct separator for your OS!\n"
          ]
        }
      ],
      "source": [
        "# Joining paths the right way\n",
        "print(\"🔗 Path joining examples:\")\n",
        "print(\"=\" * 50)\n",
        "\n",
        "# Basic path joining\n",
        "folder_name = \"documents\"\n",
        "file_name = \"report.txt\"\n",
        "full_path = os.path.join(folder_name, file_name)\n",
        "print(f\"📁 + 📄 = {full_path}\")\n",
        "\n",
        "# Multiple level path joining\n",
        "project_path = os.path.join(\"projects\", \"python\", \"day7\", \"exercises\", \"solution.py\")\n",
        "print(f\"🗂️ Multi-level path: {project_path}\")\n",
        "\n",
        "# Joining with current directory\n",
        "current_file_path = os.path.join(os.getcwd(), folder_name, file_name)\n",
        "print(f\"🏠 Full absolute path: {current_file_path}\")\n",
        "\n",
        "# Working with different path components\n",
        "user_folder = \"user_data\"\n",
        "year = \"2024\"\n",
        "month = \"march\"\n",
        "data_file = \"sales.csv\"\n",
        "\n",
        "data_path = os.path.join(user_folder, year, month, data_file)\n",
        "print(f\"📊 Data file path: {data_path}\")\n",
        "\n",
        "print(\"=\" * 50)\n",
        "print(\"💡 Notice how os.path.join() automatically uses the correct separator for your OS!\")\n"
      ]
    },
    {
      "cell_type": "markdown",
      "metadata": {},
      "source": [
        "## 🔍 Checking if Files and Directories Exist\n",
        "\n",
        "Before trying to work with a file, it's always good to check if it exists first!\n"
      ]
    },
    {
      "cell_type": "code",
      "execution_count": 61,
      "metadata": {},
      "outputs": [
        {
          "name": "stdout",
          "output_type": "stream",
          "text": [
            "🔍 Path existence checking:\n",
            "========================================\n",
            "✅ 📄 'sample.txt' is a file (58 bytes)\n",
            "❌ 'nonexistent.txt' does not exist\n",
            "❌ 'my_python_files' does not exist\n",
            "❌ 'imaginary_folder' does not exist\n",
            "✅ 📁 'd:\\Temp\\MLOB1\\Sessions\\Day7' is a directory (10 items)\n",
            "========================================\n"
          ]
        }
      ],
      "source": [
        "# Checking if paths exist\n",
        "print(\"🔍 Path existence checking:\")\n",
        "print(\"=\" * 40)\n",
        "\n",
        "# List of paths to check\n",
        "paths_to_check = [\n",
        "    'sample.txt',           # Should exist (we created it)\n",
        "    'nonexistent.txt',      # Doesn't exist\n",
        "    'my_python_files',      # Directory we created\n",
        "    'imaginary_folder',     # Doesn't exist\n",
        "    os.getcwd()            # Current directory (definitely exists)\n",
        "]\n",
        "\n",
        "for path in paths_to_check:\n",
        "    if os.path.exists(path):\n",
        "        if os.path.isfile(path):\n",
        "            size = os.path.getsize(path)\n",
        "            print(f\"✅ 📄 '{path}' is a file ({size} bytes)\")\n",
        "        elif os.path.isdir(path):\n",
        "            items_count = len(os.listdir(path))\n",
        "            print(f\"✅ 📁 '{path}' is a directory ({items_count} items)\")\n",
        "        else:\n",
        "            print(f\"✅ ❓ '{path}' exists but is neither file nor directory\")\n",
        "    else:\n",
        "        print(f\"❌ '{path}' does not exist\")\n",
        "\n",
        "print(\"=\" * 40)"
      ]
    },
    {
      "cell_type": "markdown",
      "metadata": {},
      "source": [
        "## 🗺️ Working with Absolute Paths\n",
        "\n",
        "Absolute paths tell you the complete address of a file from the root of your file system.\n"
      ]
    },
    {
      "cell_type": "code",
      "execution_count": 3,
      "metadata": {},
      "outputs": [
        {
          "name": "stdout",
          "output_type": "stream",
          "text": [
            "🗺️ Absolute Path Examples:\n",
            "============================================================\n",
            "📍 Relative path: sampless.txt\n",
            "🌍 Absolute path: d:\\Temp\\MLOB1\\Sessions\\Day7\\sampless.txt\n",
            "📏 Path length: 40 characters\n"
          ]
        }
      ],
      "source": [
        "import os\n",
        "# Working with absolute paths\n",
        "print(\"🗺️ Absolute Path Examples:\")\n",
        "print(\"=\" * 60)\n",
        "\n",
        "# Convert relative path to absolute path\n",
        "relative_path = 'sampless.txt'\n",
        "absolute_path = os.path.abspath(relative_path)\n",
        "\n",
        "print(f\"📍 Relative path: {relative_path}\")\n",
        "print(f\"🌍 Absolute path: {absolute_path}\")\n",
        "print(f\"📏 Path length: {len(absolute_path)} characters\")\n"
      ]
    },
    {
      "cell_type": "markdown",
      "metadata": {},
      "source": [
        "# 🚨 Exception Handling in Python\n",
        "\n",
        "Imagine you're driving a car. Sometimes unexpected things happen - a tire goes flat, you run out of gas, or there's construction on your route. Exception handling in Python is like having a plan for these unexpected situations!\n",
        "\n",
        "## 🤔 What Are Exceptions?\n",
        "\n",
        "Exceptions are Python's way of saying \"Something unexpected happened!\" Instead of your program crashing, exceptions allow you to handle these situations gracefully.\n",
        "\n",
        "## 🎯 Common Exception Types\n",
        "\n",
        "| Exception | What Causes It | Example |\n",
        "|-----------|----------------|---------|\n",
        "| `NameError` | Using a variable that doesn't exist | `print(undefined_variable)` |\n",
        "| `ZeroDivisionError` | Dividing by zero | `result = 10 / 0` |\n",
        "| `FileNotFoundError` | Trying to open a file that doesn't exist | `open('missing.txt')` |\n",
        "| `ValueError` | Wrong type of value | `int('hello')` |\n",
        "| `TypeError` | Wrong data type | `'text' + 5` |\n",
        "| `IndexError` | List index out of range | `my_list[999]` |\n",
        "\n",
        "---\n"
      ]
    },
    {
      "cell_type": "markdown",
      "metadata": {},
      "source": [
        "## 🛡️ Basic Exception Handling: try-except\n",
        "\n",
        "The `try-except` block is like having a safety net for your code!\n"
      ]
    },
    {
      "cell_type": "code",
      "execution_count": 5,
      "metadata": {},
      "outputs": [],
      "source": [
        "undefined_variable = 10"
      ]
    },
    {
      "cell_type": "code",
      "execution_count": 6,
      "metadata": {},
      "outputs": [],
      "source": [
        "result = undefined_variable"
      ]
    },
    {
      "cell_type": "code",
      "execution_count": 1,
      "metadata": {},
      "outputs": [
        {
          "name": "stdout",
          "output_type": "stream",
          "text": [
            "🛡️ Basic Exception Handling Examples:\n",
            "==================================================\n",
            "🚨 Caught an exception! The program continues running.\n",
            "🎉 The program continues after the exception!\n",
            "==================================================\n"
          ]
        }
      ],
      "source": [
        "# Example 1: Basic exception handling\n",
        "print(\"🛡️ Basic Exception Handling Examples:\")\n",
        "print(\"=\" * 50)\n",
        "\n",
        "try:\n",
        "    # This will cause a NameError\n",
        "    result = undefined_variable\n",
        "    print(\"This line won't execute\")\n",
        "except:\n",
        "    print(\"🚨 Caught an exception! The program continues running.\")\n",
        "\n",
        "print(\"🎉 The program continues after the exception!\")\n",
        "print(\"=\" * 50)\n"
      ]
    },
    {
      "cell_type": "markdown",
      "metadata": {},
      "source": [
        "## 🎯 Specific Exception Handling\n",
        "\n",
        "It's better to catch specific exceptions so you know exactly what went wrong!\n"
      ]
    },
    {
      "cell_type": "code",
      "execution_count": 2,
      "metadata": {},
      "outputs": [
        {
          "ename": "NameError",
          "evalue": "name 'undefined_variable' is not defined",
          "output_type": "error",
          "traceback": [
            "\u001b[31m---------------------------------------------------------------------------\u001b[39m",
            "\u001b[31mNameError\u001b[39m                                 Traceback (most recent call last)",
            "\u001b[36mCell\u001b[39m\u001b[36m \u001b[39m\u001b[32mIn[2]\u001b[39m\u001b[32m, line 1\u001b[39m\n\u001b[32m----> \u001b[39m\u001b[32m1\u001b[39m result = \u001b[43mundefined_variable\u001b[49m\n",
            "\u001b[31mNameError\u001b[39m: name 'undefined_variable' is not defined"
          ]
        }
      ],
      "source": [
        "result = undefined_variable"
      ]
    },
    {
      "cell_type": "code",
      "execution_count": 3,
      "metadata": {},
      "outputs": [
        {
          "name": "stdout",
          "output_type": "stream",
          "text": [
            "🎯 Specific Exception Handling:\n",
            "❌ Variable doesn't exist!\n"
          ]
        }
      ],
      "source": [
        "# Example 2: Catching specific exceptions\n",
        "print(\"🎯 Specific Exception Handling:\")\n",
        "\n",
        "# Example 1: NameError\n",
        "try:\n",
        "    result = undefined_variable\n",
        "except NameError:\n",
        "    print(\"❌ Variable doesn't exist!\")\n",
        "except FileExistsError:\n",
        "    print(\"❌ File operation error!\")\n",
        "\n"
      ]
    },
    {
      "cell_type": "code",
      "execution_count": 5,
      "metadata": {},
      "outputs": [
        {
          "name": "stdout",
          "output_type": "stream",
          "text": [
            "❌ Can't divide by zero!\n"
          ]
        }
      ],
      "source": [
        "# Example 2: ZeroDivisionError\n",
        "try:\n",
        "    result = 10 / 0\n",
        "except ZeroDivisionError:\n",
        "    print(\"❌ Can't divide by zero!\")\n"
      ]
    },
    {
      "cell_type": "code",
      "execution_count": null,
      "metadata": {},
      "outputs": [],
      "source": [
        "\n",
        "# Example 3: Multiple exceptions\n",
        "try:\n",
        "    number = int(input(\"Enter a number: \"))\n",
        "    result = 10 / number\n",
        "    print(f\"Result: {result}\")\n",
        "except ValueError:\n",
        "    print(\"❌ That's not a valid number!\")\n",
        "except ZeroDivisionError:\n",
        "    print(\"❌ Can't divide by zero!\")\n"
      ]
    },
    {
      "cell_type": "markdown",
      "metadata": {},
      "source": [
        "## 🎊 The try-except-else Block\n",
        "\n",
        "The `else` block runs only if NO exceptions occurred - it's like saying \"If everything went well, then do this!\"\n"
      ]
    },
    {
      "cell_type": "code",
      "execution_count": 2,
      "metadata": {},
      "outputs": [
        {
          "name": "stdout",
          "output_type": "stream",
          "text": [
            "❌ Can't divide by zero!\n"
          ]
        }
      ],
      "source": [
        "# Example 3: try-except-else block\n",
        "try:\n",
        "    result = 10 / int(input())\n",
        "except ZeroDivisionError:\n",
        "    print(\"❌ Can't divide by zero!\")\n",
        "else:\n",
        "    print(f\"✅ Success! Result is {result}\")\n"
      ]
    },
    {
      "cell_type": "markdown",
      "metadata": {},
      "source": [
        "## 🧹 The finally Block: Cleanup Code\n",
        "\n",
        "The `finally` block ALWAYS runs, whether an exception occurred or not. It's perfect for cleanup tasks!\n"
      ]
    },
    {
      "cell_type": "code",
      "execution_count": 11,
      "metadata": {},
      "outputs": [
        {
          "name": "stdout",
          "output_type": "stream",
          "text": [
            "❌ An unexpected error occurred!\n",
            "🧹 Done processing\n"
          ]
        }
      ],
      "source": [
        "# Example 4: try-except-else-finally\n",
        "try:\n",
        "    number = float(input(\"Enter a number: \"))\n",
        "    result = 100 / number\n",
        "except ValueError:\n",
        "    print(\"❌ Not a valid number!\")\n",
        "except:\n",
        "    print(\"❌ An unexpected error occurred!\")\n",
        "else:\n",
        "    print(f\"✅ Result: {result}\")\n",
        "finally:\n",
        "    print(\"🧹 Done processing\")\n"
      ]
    },
    {
      "cell_type": "markdown",
      "metadata": {},
      "source": [
        "## 📁 File Handling + Exception Handling = Best Practice!\n",
        "\n",
        "When working with files, always use exception handling to make your code robust!\n"
      ]
    },
    {
      "cell_type": "code",
      "execution_count": null,
      "metadata": {},
      "outputs": [
        {
          "name": "stdout",
          "output_type": "stream",
          "text": [
            "📁 Safe File Operations:\n",
            "========================================\n",
            "🧪 Testing safe file reading:\n",
            "\n",
            "📖 Reading sample.txt:\n",
            "✅ Successfully read 'sample.txt'\n",
            "📄 Content: This is a sample text...\n",
            "\n",
            "📖 Reading nonexistent.txt:\n",
            "❌ File 'nonexistent.txt' not found!\n",
            "\n",
            "💡 The program handles missing files gracefully!\n"
          ]
        }
      ],
      "source": [
        "# Example 5: Safe file operations with exception handling\n",
        "print(\"📁 Safe File Operations:\")\n",
        "print(\"=\" * 40)\n",
        "\n",
        "def safe_file_reader(filename):\n",
        "    \"\"\"\n",
        "    Safely read a file with error handling.\n",
        "    Args:\n",
        "        filename (str): Path to the file to read\n",
        "    Returns:\n",
        "        str or None: File content if successful, None otherwise\n",
        "    \"\"\"\n",
        "    try:\n",
        "        with open(filename, 'r') as file:\n",
        "            content = file.read()\n",
        "            print(f\"✅ Successfully read '{filename}'\")\n",
        "            return content\n",
        "            \n",
        "    except FileNotFoundError:\n",
        "        print(f\"❌ File '{filename}' not found!\")\n",
        "        return None\n",
        "        \n",
        "    except Exception as e:\n",
        "        print(f\"❌ Error reading file: {e}\")\n",
        "        return None\n",
        "\n",
        "# Test with a couple of files\n",
        "test_files = ['sample.txt', 'nonexistent.txt']\n",
        "\n",
        "print(\"🧪 Testing safe file reading:\")\n",
        "for filename in test_files:\n",
        "    print(f\"\\n📖 Reading {filename}:\")\n",
        "    result = safe_file_reader(filename)\n",
        "    \n",
        "    if result:\n",
        "        print(f\"📄 Content: {result[:50]}...\")\n",
        "\n",
        "print(\"\\n💡 The program handles missing files gracefully!\")\n"
      ]
    },
    {
      "cell_type": "markdown",
      "metadata": {},
      "source": [
        "# 💪 Practical Exercises\n",
        "\n",
        "Time to practice what you've learned! Try these exercises to reinforce your understanding.\n",
        "\n",
        "---\n",
        "\n",
        "## 🏋️ Exercise 1: Student Grade Manager\n",
        "\n",
        "Create a program that manages student grades and handles various errors gracefully.\n"
      ]
    },
    {
      "cell_type": "code",
      "execution_count": null,
      "metadata": {},
      "outputs": [],
      "source": [
        "# Exercise 1: Student Grade Manager\n",
        "# TODO: Create a comprehensive grade management system with error handling\n",
        "\n",
        "\"\"\"\n",
        "📋 Your Task:\n",
        "Create a program that manages student grades and handles various errors gracefully.\n",
        "\n",
        "🎯 Requirements:\n",
        "1. Create a function called `grade_manager()` that:\n",
        "   - Reads grades from the file and stores them in a dictionary\n",
        "   - Handles file reading errors gracefully\n",
        "   - Validates grade data format (handle invalid lines)\n",
        "   - Calculates and displays statistics (average, highest, lowest)\n",
        "   - Saves a summary report to a new file\n",
        "\n",
        "🧪 Test cases to consider:\n",
        "- Valid grade file\n",
        "- Missing grade file\n",
        "- File with some invalid lines\n",
        "- File creation/writing errors\n",
        "\"\"\"\n",
        "\n",
        "# Write your solution here:\n",
        "# def grade_manager():\n",
        "#     # Your code here\n",
        "#     pass\n",
        "\n",
        "# grade_manager()\n"
      ]
    },
    {
      "cell_type": "markdown",
      "metadata": {},
      "source": [
        "# 📋 Summary & Key Takeaways\n",
        "\n",
        "Congratulations! 🎉 You've completed Day 7 of your Python journey. Let's recap what you've mastered:\n",
        "\n",
        "---\n",
        "\n",
        "## 🎓 What You've Learned\n",
        "\n",
        "### 📁 File Operations\n",
        "- ✅ **Reading files**: `read()`, line-by-line processing\n",
        "- ✅ **Writing files**: `write()`, `writelines()`, append mode\n",
        "- ✅ **File modes**: `'r'`, `'w'`, `'a'`, `'w+'`, `'rb'`, `'wb'`\n",
        "- ✅ **Binary files**: Handling non-text data\n",
        "- ✅ **File statistics**: Counting lines, words, characters\n",
        "\n",
        "### 🗺️ File Path Management\n",
        "- ✅ **Path operations**: `os.getcwd()`, `os.path.join()`\n",
        "- ✅ **Directory operations**: `os.mkdir()`, `os.makedirs()`, `os.listdir()`\n",
        "- ✅ **Path checking**: `os.path.exists()`, `os.path.isfile()`, `os.path.isdir()`\n",
        "- ✅ **Absolute paths**: `os.path.abspath()`, path components\n",
        "\n",
        "### 🚨 Exception Handling\n",
        "- ✅ **Basic structure**: `try-except` blocks\n",
        "- ✅ **Specific exceptions**: `FileNotFoundError`, `ValueError`, `ZeroDivisionError`\n",
        "- ✅ **Advanced structure**: `try-except-else-finally`\n",
        "- ✅ **Best practices**: Graceful error handling, cleanup code\n",
        "\n",
        "---\n"
      ]
    },
    {
      "cell_type": "markdown",
      "metadata": {},
      "source": [
        "## 🎯 Best Practices Learned\n",
        "\n",
        "1. **Always use `with` statements** for file operations - they automatically close files\n",
        "2. **Check if files exist** before trying to read them\n",
        "3. **Use `os.path.join()`** for cross-platform path compatibility\n",
        "4. **Handle specific exceptions** rather than generic ones\n",
        "5. **Always include cleanup code** in `finally` blocks\n",
        "6. **Provide meaningful error messages** to users\n",
        "7. **Test your code** with both valid and invalid inputs\n",
        "\n",
        "---\n",
        "\n",
        "## 🧠 Key Concepts to Remember\n",
        "\n",
        "### 💡 The Power of Context Managers (`with` statement)\n",
        "```python\n",
        "# ✅ Good - Automatically closes file\n",
        "with open('file.txt', 'r') as file:\n",
        "    content = file.read()\n",
        "\n",
        "# ❌ Bad - Must remember to close file\n",
        "file = open('file.txt', 'r')\n",
        "content = file.read()\n",
        "file.close()  # Easy to forget!\n",
        "```\n",
        "\n",
        "### 💡 Exception Handling Structure\n",
        "```python\n",
        "try:\n",
        "    # Code that might raise an exception\n",
        "    risky_operation()\n",
        "except SpecificError as e:\n",
        "    # Handle specific error\n",
        "    print(f\"Specific error: {e}\")\n",
        "except Exception as e:\n",
        "    # Handle any other error\n",
        "    print(f\"Unexpected error: {e}\")\n",
        "else:\n",
        "    # Runs only if no exception occurred\n",
        "    print(\"Success!\")\n",
        "finally:\n",
        "    # Always runs - perfect for cleanup\n",
        "    cleanup_resources()\n",
        "```\n",
        "\n",
        "---\n"
      ]
    },
    {
      "cell_type": "code",
      "execution_count": null,
      "metadata": {},
      "outputs": [],
      "source": []
    }
  ],
  "metadata": {
    "kernelspec": {
      "display_name": ".venv",
      "language": "python",
      "name": "python3"
    },
    "language_info": {
      "codemirror_mode": {
        "name": "ipython",
        "version": 3
      },
      "file_extension": ".py",
      "mimetype": "text/x-python",
      "name": "python",
      "nbconvert_exporter": "python",
      "pygments_lexer": "ipython3",
      "version": "3.13.7"
    }
  },
  "nbformat": 4,
  "nbformat_minor": 2
}
