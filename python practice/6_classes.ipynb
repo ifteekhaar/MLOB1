{
 "cells": [
  {
   "cell_type": "markdown",
   "id": "142e2672",
   "metadata": {},
   "source": [
    "1. ### Classes\n"
   ]
  },
  {
   "cell_type": "markdown",
   "id": "0659eed4",
   "metadata": {},
   "source": [
    "Class is creating new object"
   ]
  },
  {
   "cell_type": "code",
   "execution_count": null,
   "id": "b262075e",
   "metadata": {},
   "outputs": [],
   "source": [
    "# class is blueprint for creating new objects\n",
    "\n",
    "# an obcect is instance of a class"
   ]
  },
  {
   "cell_type": "code",
   "execution_count": 4,
   "id": "1717df5e",
   "metadata": {},
   "outputs": [
    {
     "name": "stdout",
     "output_type": "stream",
     "text": [
      "<class '__main__.MyPoint'>\n",
      "True\n",
      "False\n"
     ]
    }
   ],
   "source": [
    "class MyPoint:             # a class (Capital letter start)\n",
    "    def draw(self):            # a method define, must have atleast one attribute\n",
    "        print(\"draw\") \n",
    "\n",
    "point = MyPoint()       # calling the class and storing in a variable\n",
    "print(type(point))\n",
    "\n",
    "print(isinstance(point, MyPoint)) # checking if point is an object of MyPoint class or not\n",
    "print(isinstance(point, int)) "
   ]
  },
  {
   "cell_type": "markdown",
   "id": "1b12517e",
   "metadata": {},
   "source": [
    "2. ### Constructors"
   ]
  },
  {
   "cell_type": "code",
   "execution_count": null,
   "id": "e546cb17",
   "metadata": {},
   "outputs": [
    {
     "name": "stdout",
     "output_type": "stream",
     "text": [
      "<__main__.MyPoint object at 0x000001BD2A868980>\n",
      "1\n",
      "2\n",
      "Point (1 , 2)\n"
     ]
    }
   ],
   "source": [
    "\n",
    "# lets supply two values for the object\n",
    "\"\"\"\n",
    "self is a reference to the current object\n",
    "that we are working with. When calling methods of an object,\n",
    "we never have to supply a value for the parameter.\n",
    "\"\"\" \n",
    "\n",
    "\n",
    "class MyPoint: \n",
    "    def __init__(self, x, y):     \n",
    "        self.x = x      # two attributes\n",
    "        self.y = y\n",
    "    \n",
    "    \n",
    "    def draw(self):\n",
    "        print(f\"Point ({self.x} , {self.y})\")\n",
    "\n",
    "point = MyPoint(1, 2)\n",
    " \n",
    "print(point)\n",
    "print(point.x)\n",
    "print(point.y)\n",
    "point.draw()\n"
   ]
  },
  {
   "cell_type": "code",
   "execution_count": null,
   "id": "0d07da37",
   "metadata": {},
   "outputs": [
    {
     "name": "stdout",
     "output_type": "stream",
     "text": [
      "10\n"
     ]
    }
   ],
   "source": [
    "# defining new attributes without constructor\n",
    "# we can define them wheneever we need them\n",
    "\n",
    "point.z = 10 \n",
    "print(point.z)"
   ]
  },
  {
   "cell_type": "markdown",
   "id": "bf0a311d",
   "metadata": {},
   "source": [
    "all these attributes we have defined so far are instance attibutes. In other words attributes that belongs to point instances or point objects. So every point object can have differennt values for these attributes\n",
    " "
   ]
  },
  {
   "cell_type": "code",
   "execution_count": null,
   "id": "8dbd8d9f",
   "metadata": {},
   "outputs": [
    {
     "name": "stdout",
     "output_type": "stream",
     "text": [
      "Point (5 , 34)\n",
      "Point (10 , 3)\n",
      "5\n",
      "10\n"
     ]
    }
   ],
   "source": [
    "point_1 = MyPoint(5,34)\n",
    "point_2 = MyPoint(10,3)\n",
    "\n",
    "point_1.draw()\n",
    "point_2.draw()\n",
    "\n",
    "print(point_1.x)\n",
    "print(point_2.x)\n",
    "\n",
    "# point_1 and point_2 are independent of each other\n"
   ]
  },
  {
   "cell_type": "markdown",
   "id": "0a51d433",
   "metadata": {},
   "source": [
    "3. ### Class vs Instances"
   ]
  },
  {
   "cell_type": "markdown",
   "id": "b9ed1f1c",
   "metadata": {},
   "source": [
    "But we also can define class attrinutes and these are attributes that we define at the class level and they are the same across all instances of a class. "
   ]
  },
  {
   "cell_type": "code",
   "execution_count": 46,
   "id": "cf95cde5",
   "metadata": {},
   "outputs": [
    {
     "name": "stdout",
     "output_type": "stream",
     "text": [
      "red\n",
      "red\n",
      "yellow\n",
      "yellow\n"
     ]
    }
   ],
   "source": [
    "class MyPoint: \n",
    "    default_color = \"red\"\n",
    "    \n",
    "    def __init__(self, x, y):     \n",
    "        self.x = x      # two attributes\n",
    "        self.y = y\n",
    "    \n",
    "    \n",
    "    def draw(self):\n",
    "        print(f\"Point ({self.x} , {self.y})\")\n",
    "  \n",
    "point_1 = MyPoint(4,5)  \n",
    "\n",
    "'''\n",
    "SO now we have a class level attribute. we can access this\n",
    "by a class reference or an object reference.  \n",
    "'''\n",
    "\n",
    "print(point_1.default_color)\n",
    "print(MyPoint.default_color)\n",
    "\n",
    "# class attributes are shared across all instances of a class\n",
    "\n",
    "MyPoint.default_color = \"yellow\"  # working with class\n",
    "\n",
    "print(point_1.default_color)\n",
    "print(MyPoint.default_color)\n"
   ]
  },
  {
   "cell_type": "markdown",
   "id": "4c82b63c",
   "metadata": {},
   "source": [
    "4. ### class vs instance methods"
   ]
  },
  {
   "cell_type": "markdown",
   "id": "38b1b3c3",
   "metadata": {},
   "source": [
    "We have instance methods and class methods. In the previous example the methods are instance methods. We can call them using an object. There are times we dont really need an existing object and thats when we use class method"
   ]
  },
  {
   "cell_type": "code",
   "execution_count": null,
   "id": "ddf9a16a",
   "metadata": {},
   "outputs": [],
   "source": [
    "# let say we want to define zero() as class method\n",
    "# it will give a Point object (0,0)\n",
    "# so this functions kinda works like a factory reset\n",
    "# we dont need to repeat all time we need to reset to inital value (0,0)\n",
    "# by calling this method we can reset\n"
   ]
  },
  {
   "cell_type": "code",
   "execution_count": null,
   "id": "58ba4eac",
   "metadata": {},
   "outputs": [
    {
     "name": "stdout",
     "output_type": "stream",
     "text": [
      "Point(0, 0)\n"
     ]
    }
   ],
   "source": [
    "class MyPoint:\n",
    "    def __init__(self, x, y):\n",
    "        self.x = x\n",
    "        self.y = y\n",
    "        \n",
    "    @classmethod                 #decorator\n",
    "    def zero(cls):\n",
    "        return cls(0,0)\n",
    "    \n",
    "    def draw(self):\n",
    "        print(f\"Point({self.x}, {self.y})\")\n",
    "\n",
    "poin_0 = MyPoint.zero()  # initial value object\n",
    "\n",
    "poin_0.draw()\n",
    "\n"
   ]
  },
  {
   "cell_type": "markdown",
   "id": "66274371",
   "metadata": {},
   "source": [
    "5. ### Magic Methods\n",
    "\n",
    "Automatically called by python"
   ]
  },
  {
   "cell_type": "code",
   "execution_count": null,
   "id": "380e34e5",
   "metadata": {},
   "outputs": [
    {
     "name": "stdout",
     "output_type": "stream",
     "text": [
      "<__main__.Point object at 0x000001FA7FCF81A0>\n"
     ]
    }
   ],
   "source": [
    "class Point:\n",
    "    def __init__(self, x, y):     # magic method \n",
    "        self.x = x\n",
    "        self.y = y\n",
    "    \n",
    "    def draw(self):\n",
    "        print(f\"Point({self.x}, {self.y})\")\n",
    "    \n",
    "point_1 = Point(1,2)\n",
    "print(point_1) \n",
    "\n",
    "# this print statement gives the class name and the memoey allocation\n",
    "# default implementation of point object\n"
   ]
  },
  {
   "cell_type": "code",
   "execution_count": 1,
   "id": "fce9c703",
   "metadata": {},
   "outputs": [
    {
     "name": "stdout",
     "output_type": "stream",
     "text": [
      "(1, 2)\n"
     ]
    }
   ],
   "source": [
    "# lets add another magic method\n",
    "\n",
    "class Point:\n",
    "    def __init__(self, x, y):     # magic method \n",
    "        self.x = x\n",
    "        self.y = y\n",
    "    \n",
    "    def __str__(self):            # return string\n",
    "        return f\"({self.x}, {self.y})\"\n",
    "    \n",
    "    def draw(self):\n",
    "        print(f\"Point({self.x}, {self.y})\")\n",
    "    \n",
    "point_1 = Point(1,2)\n",
    "print(point_1)"
   ]
  },
  {
   "cell_type": "markdown",
   "id": "c86f1035",
   "metadata": {},
   "source": [
    "6. ### Performing Arithmatic Operations"
   ]
  },
  {
   "cell_type": "markdown",
   "id": "70ed3ff4",
   "metadata": {},
   "source": [
    "we have magic methods for performing arithmatic operations between two objects. "
   ]
  },
  {
   "cell_type": "code",
   "execution_count": null,
   "id": "c9bef687",
   "metadata": {},
   "outputs": [],
   "source": [
    "# __add__(self, other) ---> addition\n",
    "# __sub__(self, other) ---> subtraction\n",
    "# __mul__(self, other) ---> multiplication \n",
    "# __div__(self,other) ----> Division"
   ]
  },
  {
   "cell_type": "code",
   "execution_count": null,
   "id": "bcee1982",
   "metadata": {},
   "outputs": [
    {
     "name": "stdout",
     "output_type": "stream",
     "text": [
      "(13, 75)\n",
      "(30, 1100)\n"
     ]
    }
   ],
   "source": [
    "# adding \n",
    "# multiplying\n",
    "\n",
    "\n",
    "class Point:\n",
    "    def __init__(self, x, y):     \n",
    "        self.x = x\n",
    "        self.y = y\n",
    "    \n",
    "    def __add__(self,other):\n",
    "        return Point(self.x + other.x , self.y + other.y)\n",
    "    \n",
    "    def __mul__(self,other):\n",
    "        return Point(self.x * other.x , self.y * other.y)\n",
    "    \n",
    "    def __str__(self):            \n",
    "        return f\"({self.x}, {self.y})\"\n",
    "    \n",
    "point_1 = Point(10,20)\n",
    "point_2 = Point(3,55)\n",
    "\n",
    "print(point_1 + point_2)\n",
    "print(point_1 * point_2)"
   ]
  },
  {
   "cell_type": "markdown",
   "id": "48ec42c7",
   "metadata": {},
   "source": [
    "7. ### Making Custom Containers"
   ]
  },
  {
   "cell_type": "markdown",
   "id": "9a846e1a",
   "metadata": {},
   "source": [
    "There are common data structure like lists, sets, tuple. These are sufficient. To create your own custom container types...\n"
   ]
  },
  {
   "cell_type": "code",
   "execution_count": null,
   "id": "6938ee3f",
   "metadata": {},
   "outputs": [],
   "source": [
    "class TagCloud\n",
    "'''\n",
    "with this class we can keep track of the number of various tags\n",
    "on a block. For example how many articles do we have that are taged \n",
    "with python, javascript and so on. \n",
    " \n",
    "'''\n",
    "\n",
    "'''\n",
    "beacuse this class represents a container it supports operations\n",
    "around container \n",
    "'''"
   ]
  },
  {
   "cell_type": "code",
   "execution_count": null,
   "id": "45954b50",
   "metadata": {},
   "outputs": [],
   "source": [
    "class Tagcloud:\n",
    "\n",
    "cloud = Tagcloud()\n",
    "len(cloud)\n",
    "for tag in cloud:\n",
    "    print(tag)\n"
   ]
  },
  {
   "cell_type": "markdown",
   "id": "3d5a3f11",
   "metadata": {},
   "source": [
    "Lets see how to implement a class like this"
   ]
  },
  {
   "cell_type": "code",
   "execution_count": null,
   "id": "3eed6604",
   "metadata": {},
   "outputs": [
    {
     "name": "stdout",
     "output_type": "stream",
     "text": [
      "{}\n"
     ]
    }
   ],
   "source": []
  },
  {
   "cell_type": "markdown",
   "id": "2ec32cbc",
   "metadata": {},
   "source": [
    "8. ### Private Member"
   ]
  },
  {
   "cell_type": "code",
   "execution_count": null,
   "id": "e64f3694",
   "metadata": {},
   "outputs": [],
   "source": []
  },
  {
   "cell_type": "markdown",
   "id": "e93797b8",
   "metadata": {},
   "source": [
    "9. ### properties"
   ]
  },
  {
   "cell_type": "code",
   "execution_count": null,
   "id": "36dee2f3",
   "metadata": {},
   "outputs": [],
   "source": []
  }
 ],
 "metadata": {
  "kernelspec": {
   "display_name": ".venv",
   "language": "python",
   "name": "python3"
  },
  "language_info": {
   "codemirror_mode": {
    "name": "ipython",
    "version": 3
   },
   "file_extension": ".py",
   "mimetype": "text/x-python",
   "name": "python",
   "nbconvert_exporter": "python",
   "pygments_lexer": "ipython3",
   "version": "3.13.7"
  }
 },
 "nbformat": 4,
 "nbformat_minor": 5
}
