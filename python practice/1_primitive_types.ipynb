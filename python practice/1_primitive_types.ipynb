{
 "cells": [
  {
   "cell_type": "markdown",
   "id": "104843a3",
   "metadata": {},
   "source": [
    "# This the Premitivie types section"
   ]
  },
  {
   "cell_type": "markdown",
   "id": "d43ec9d0",
   "metadata": {},
   "source": [
    "1.Variable Names\n"
   ]
  },
  {
   "cell_type": "code",
   "execution_count": 2,
   "id": "33980a8e",
   "metadata": {},
   "outputs": [],
   "source": [
    "\n",
    "name = \"Iftekhar\" \n",
    "rating_count = 4.99\n",
    "is_published = True\n",
    "course_name = \"Python Programming\""
   ]
  },
  {
   "cell_type": "markdown",
   "id": "54324ace",
   "metadata": {},
   "source": [
    "2.Strings"
   ]
  },
  {
   "cell_type": "code",
   "execution_count": 1,
   "id": "1e1cbd03",
   "metadata": {},
   "outputs": [
    {
     "name": "stdout",
     "output_type": "stream",
     "text": [
      "18\n",
      "PYTHON PROGRAMMING\n",
      "python programming\n",
      "Python Programming\n",
      "0\n",
      "jython jrogramming\n",
      "True\n",
      "p\n",
      "pyt\n",
      "ython programming\n",
      "pyt\n",
      "python programming\n",
      "\n"
     ]
    }
   ],
   "source": [
    "\n",
    "course = \"python programming\"\n",
    "print(len(course))\n",
    "print(course.upper())\n",
    "print(course.lower())\n",
    "print(course.title())\n",
    "print(course.find('p'))\n",
    "print(course.replace('p', 'j'))\n",
    "print('programming' in course)\n",
    "print(course[0])\n",
    "print(course[0:3])\n",
    "print(course[1:])   \n",
    "print(course[:3])\n",
    "print(course[:])\n",
    "print(course[-3:5])\n"
   ]
  },
  {
   "cell_type": "markdown",
   "id": "4236357f",
   "metadata": {},
   "source": [
    "3. Escape Sequence\n",
    "\n",
    "\\\\ is an escape character. The character after the backslash is escapped"
   ]
  },
  {
   "cell_type": "code",
   "execution_count": 9,
   "id": "7f9b4109",
   "metadata": {},
   "outputs": [
    {
     "name": "stdout",
     "output_type": "stream",
     "text": [
      "Python Programming\n",
      "Python \"Programming\n",
      "Python 'Programming\n",
      "Python \\Programming\n",
      "Python \n",
      "Programming\n"
     ]
    }
   ],
   "source": [
    "\n",
    "course_name = \"Python Programming\" # normal string\n",
    "course1 = \"Python \\\"Programming\" # double quote\n",
    "course2 = 'Python \\'Programming' # single quote\n",
    "course3 = \"Python \\\\Programming\" # backslash\n",
    "course4 = \"Python \\nProgramming\" # new line \n",
    "\n",
    "\n",
    "print(course_name)\n",
    "print(course1)\n",
    "print(course2)\n",
    "print(course3)\n",
    "print(course4)"
   ]
  },
  {
   "cell_type": "code",
   "execution_count": null,
   "id": "4e335d6f",
   "metadata": {},
   "outputs": [
    {
     "name": "stdout",
     "output_type": "stream",
     "text": [
      "Python \tProgramming\n",
      "Python \n",
      "Programming\n",
      "Python \\nProgramming\n"
     ]
    }
   ],
   "source": [
    "\n",
    "course5 = \"Python \\tProgramming\" # tab space means 4 spaces\n",
    "course6 = f\"Python \\nProgramming\" # formatted string means evaluate any expression inside {}\n",
    "course7 = r\"Python \\nProgramming\" # raw string means ignore escape sequence\n",
    "\n",
    "print(course5)\n",
    "print(course6)\n",
    "print(course7)\n"
   ]
  },
  {
   "cell_type": "markdown",
   "id": "a5ce5914",
   "metadata": {},
   "source": [
    "4. String Methods"
   ]
  },
  {
   "cell_type": "code",
   "execution_count": 22,
   "id": "b36cbcc7",
   "metadata": {},
   "outputs": [
    {
     "name": "stdout",
     "output_type": "stream",
     "text": [
      "Python programming\n",
      "PYTHON PROGRAMMING\n",
      "python programming\n",
      "Python Programming\n",
      "0\n",
      "jython jrogramming\n",
      "True\n",
      "False\n"
     ]
    }
   ],
   "source": [
    "\n",
    "course = \"python programming\"\n",
    "\n",
    "print(course.capitalize()) # capitalize first letter of the string\n",
    "print(course.upper()) # convert all letters to uppercase\n",
    "print(course.lower()) # convert all letters to lowercase\n",
    "print(course.title()) # capitalize first letter of each word\n",
    "\n",
    "print(course.find('p')) # find index of first occurrence of 'p'\n",
    "print(course.replace('p', 'j')) # replace all occurrences of 'p' with 'j'\n",
    "\n",
    "print('programming' in course) # check if 'programming' is in the string\n",
    "print(\"programming\" not in course) # check if 'programming' is not in the string"
   ]
  },
  {
   "cell_type": "code",
   "execution_count": 15,
   "id": "42d9fdfd",
   "metadata": {},
   "outputs": [
    {
     "name": "stdout",
     "output_type": "stream",
     "text": [
      "p\n",
      "pyt\n",
      "ython programming\n",
      "pyt\n",
      "python programming\n",
      "\n",
      "0\n",
      "7\n"
     ]
    }
   ],
   "source": [
    "\n",
    "print(course[0]) # access first character of the string\n",
    "print(course[0:3]) # access characters from index 0 to 2\n",
    "print(course[1:])  # access characters from index 1 to end\n",
    "print(course[:3]) # access characters from start to index 2\n",
    "print(course[:]) # access all characters of the string\n",
    "print(course[-3:5]) # access characters from index -3 to 4\n",
    "\n",
    "print(course.index('p')) # find index of first occurrence of 'p'\n",
    "print(course.rindex('p')) # find index of last occurrence of 'p'\n"
   ]
  },
  {
   "cell_type": "code",
   "execution_count": 19,
   "id": "8438bda0",
   "metadata": {},
   "outputs": [
    {
     "name": "stdout",
     "output_type": "stream",
     "text": [
      "python programming\n",
      "python programming\n",
      "python programming\n",
      "['python', 'programming']\n"
     ]
    }
   ],
   "source": [
    "\n",
    "print(course.strip()) # remove white spaces from both sides\n",
    "print(course.lstrip()) # remove white spaces from left side\n",
    "print(course.rstrip()) # remove white spaces from right side\n",
    "print(course.split()) # split string into list"
   ]
  },
  {
   "cell_type": "code",
   "execution_count": 23,
   "id": "78dbf8e4",
   "metadata": {},
   "outputs": [
    {
     "name": "stdout",
     "output_type": "stream",
     "text": [
      "['pyth', 'n pr', 'gramming']\n",
      "2\n",
      "True\n",
      "True\n"
     ]
    }
   ],
   "source": [
    "\n",
    "print(course.split('o')) # split string into list by 'o'\n",
    "print(course.count('p')) # count occurrences of 'p'\n",
    "print(course.startswith('p')) # check if string starts with 'p'\n",
    "print(course.endswith('g')) # check if string ends with 'g'"
   ]
  },
  {
   "cell_type": "code",
   "execution_count": 24,
   "id": "701e2c35",
   "metadata": {},
   "outputs": [
    {
     "name": "stdout",
     "output_type": "stream",
     "text": [
      "True\n",
      "False\n",
      "False\n",
      "False\n",
      "False\n"
     ]
    }
   ],
   "source": [
    "print(course.islower()) # check if string is in lowercase\n",
    "print(course.isupper()) # check if string is in uppercase\n",
    "print(course.istitle()) # check if string is in title case\n",
    "print(course.isalpha()) # check if string contains only alphabets\n",
    "print(course.isalnum()) # check if string contains only alphanumeric characters"
   ]
  },
  {
   "cell_type": "markdown",
   "id": "b9ca476a",
   "metadata": {},
   "source": [
    "5. Numbers"
   ]
  },
  {
   "cell_type": "code",
   "execution_count": 27,
   "id": "0e79185d",
   "metadata": {},
   "outputs": [
    {
     "name": "stdout",
     "output_type": "stream",
     "text": [
      "<class 'int'>\n",
      "<class 'float'>\n",
      "<class 'int'>\n",
      "13.14\n",
      "6.859999999999999\n",
      "31.400000000000002\n",
      "3.184713375796178\n"
     ]
    }
   ],
   "source": [
    "x = 10\n",
    "y = 3.14\n",
    "z = -5\n",
    "\n",
    "print(type(x))\n",
    "print(type(y))\n",
    "print(type(z))\n",
    "\n",
    "print(x + y) # addition\n",
    "print(x - y) # subtraction\n",
    "print(x * y) # multiplication\n",
    "print(x / y) # division\n"
   ]
  },
  {
   "cell_type": "code",
   "execution_count": 26,
   "id": "90683614",
   "metadata": {},
   "outputs": [
    {
     "name": "stdout",
     "output_type": "stream",
     "text": [
      "5\n",
      "3\n",
      "3.0\n",
      "0.5799999999999996\n",
      "100\n",
      "100\n"
     ]
    }
   ],
   "source": [
    "print(abs(z)) # absolute value\n",
    "print(round(y)) # round to nearest integer\n",
    "print(x // y) # floor division\n",
    "print(x % y) # modulus\n",
    "print(x ** 2) # exponentiation  \n",
    "print(pow(x, 2)) # power function"
   ]
  },
  {
   "cell_type": "code",
   "execution_count": null,
   "id": "48b9a44c",
   "metadata": {},
   "outputs": [],
   "source": [
    "# augmented variables\n",
    "\n",
    "x += 5 # x = x + 5\n",
    "x -= 5 # x = x - 5\n",
    "x *= 5 # x = x * 5\n",
    "x /= 5 # x = x / 5\n",
    "x //= 5 # x = x // 5\n"
   ]
  },
  {
   "cell_type": "markdown",
   "id": "de4571ae",
   "metadata": {},
   "source": [
    "There are limitted work with numbers. We need the math module to work further. There are some example of the math module. There are lots of function found in python website"
   ]
  },
  {
   "cell_type": "code",
   "execution_count": 31,
   "id": "6d5ed809",
   "metadata": {},
   "outputs": [
    {
     "name": "stdout",
     "output_type": "stream",
     "text": [
      "3\n",
      "2\n",
      "4.0\n",
      "120\n",
      "3\n",
      "60\n"
     ]
    }
   ],
   "source": [
    "# math module\n",
    "import math \n",
    "\n",
    "print(math.ceil(2.3)) # round up\n",
    "print(math.floor(2.7)) # round down\n",
    "print(math.sqrt(16)) # square root\n",
    "print(math.factorial(5)) # factorial\n",
    "print(math.gcd(12, 15)) # greatest common divisor\n",
    "print(math.lcm(12, 15)) # least common multiple\n"
   ]
  },
  {
   "cell_type": "code",
   "execution_count": 36,
   "id": "255abbd4",
   "metadata": {},
   "outputs": [
    {
     "name": "stdout",
     "output_type": "stream",
     "text": [
      "0.0\n",
      "1.0\n",
      "1.0\n",
      "0.9999999999999999\n"
     ]
    }
   ],
   "source": [
    "\n",
    "print(math.sin(0)) # sine of 0 degrees\n",
    "print(math.cos(0)) # cosine of 0 degrees\n",
    "print(math.sin(math.pi/2)) # sine of 90 degrees\n",
    "print(math.tan(math.pi/4)) # tangent of 45 degrees"
   ]
  },
  {
   "cell_type": "code",
   "execution_count": 38,
   "id": "19d908d8",
   "metadata": {},
   "outputs": [
    {
     "name": "stdout",
     "output_type": "stream",
     "text": [
      "2.0\n",
      "2.0\n",
      "<built-in function log10>\n",
      "3.0\n",
      "3.0\n"
     ]
    }
   ],
   "source": [
    "print(math.log(100, 10)) # log base 10 of 100\n",
    "print(math.log10(100)) # log base 10 of 100\n",
    "print(math.log10) # log base 10 function\n",
    "print(math.log2(8)) # log base 2 of 8\n",
    "print(math.log10(1000)) # log base 10 of 1000"
   ]
  },
  {
   "cell_type": "code",
   "execution_count": 39,
   "id": "6e9d6f13",
   "metadata": {},
   "outputs": [
    {
     "name": "stdout",
     "output_type": "stream",
     "text": [
      "7.38905609893065\n",
      "1.5707963267948966\n",
      "90.0\n",
      "3.141592653589793\n",
      "2.718281828459045\n"
     ]
    }
   ],
   "source": [
    "print(math.exp(2)) # e^2\n",
    "print(math.radians(90)) # convert degrees to radians\n",
    "print(math.degrees(math.pi/2)) # convert radians to degrees\n",
    "print(math.pi) # value of pi\n",
    "print(math.e) # value of e"
   ]
  },
  {
   "cell_type": "markdown",
   "id": "02cdad92",
   "metadata": {},
   "source": [
    "6. Type Conversion  "
   ]
  },
  {
   "cell_type": "code",
   "execution_count": 42,
   "id": "2b5f31a1",
   "metadata": {},
   "outputs": [
    {
     "name": "stdout",
     "output_type": "stream",
     "text": [
      "<class 'int'>\n",
      "<class 'float'>\n",
      "<class 'str'>\n"
     ]
    }
   ],
   "source": [
    "x = \"10\" # string\n",
    "x = int(x) # convert string to integer  \n",
    "y = float(x) # convert integer to float\n",
    "z = str(x) # convert integer to string\n",
    "\n",
    "print(type(x))\n",
    "print(type(y))\n",
    "print(type(z))\n",
    "\n"
   ]
  },
  {
   "cell_type": "code",
   "execution_count": 44,
   "id": "510b7dc8",
   "metadata": {},
   "outputs": [
    {
     "name": "stdout",
     "output_type": "stream",
     "text": [
      "6\n",
      "<class 'int'>\n",
      "<class 'int'>\n"
     ]
    }
   ],
   "source": [
    "a = int(input(\"Enter a number: \")) # convert string to integer directly\n",
    "b = int(input(\"Enter another number: \")) # convert string to integer directly\n",
    "print(a + b) # print sum of two numbers\n",
    "\n",
    "print(type(a))\n",
    "print(type(b))"
   ]
  },
  {
   "cell_type": "markdown",
   "id": "a63eda95",
   "metadata": {},
   "source": [
    "Excercise"
   ]
  },
  {
   "cell_type": "code",
   "execution_count": null,
   "id": "a36a1e1b",
   "metadata": {},
   "outputs": [
    {
     "name": "stdout",
     "output_type": "stream",
     "text": [
      "Double of 12 is 24\n"
     ]
    },
    {
     "data": {
      "text/plain": [
       "' This is a multi-line comment\\nformattted string starts with f\".\\nInside the string the variables are wriiten inside {} braces.'"
      ]
     },
     "execution_count": 2,
     "metadata": {},
     "output_type": "execute_result"
    }
   ],
   "source": [
    "x = int(input(\"Enter a number: \"))\n",
    "y = x * 2\n",
    "print(f\"Double of {x} is {y}\") \n",
    "\n",
    "# formatted string is used to dispaly results\n",
    "\n",
    "\"\"\" \n",
    "This is a multi-line comment\n",
    "formattted string starts with f\".\n",
    "Inside the string the variables are wriiten inside {} braces.\n",
    "\"\"\""
   ]
  }
 ],
 "metadata": {
  "kernelspec": {
   "display_name": ".venv",
   "language": "python",
   "name": "python3"
  },
  "language_info": {
   "codemirror_mode": {
    "name": "ipython",
    "version": 3
   },
   "file_extension": ".py",
   "mimetype": "text/x-python",
   "name": "python",
   "nbconvert_exporter": "python",
   "pygments_lexer": "ipython3",
   "version": "3.13.7"
  }
 },
 "nbformat": 4,
 "nbformat_minor": 5
}
