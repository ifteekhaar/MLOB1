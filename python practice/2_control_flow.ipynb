{
 "cells": [
  {
   "cell_type": "markdown",
   "id": "8096cf1e",
   "metadata": {},
   "source": [
    "# Control Flow"
   ]
  },
  {
   "cell_type": "markdown",
   "id": "5af792ce",
   "metadata": {},
   "source": [
    "1. Comparison operator"
   ]
  },
  {
   "cell_type": "code",
   "execution_count": 1,
   "id": "860125c3",
   "metadata": {},
   "outputs": [
    {
     "name": "stdout",
     "output_type": "stream",
     "text": [
      "True\n",
      "True\n",
      "False\n",
      "False\n",
      "False\n",
      "True\n",
      "True\n",
      "False\n"
     ]
    }
   ],
   "source": [
    "# Comparison Operators in Python\n",
    "\n",
    "print(3 > 2)  # Greater than\n",
    "print(3 >= 2) # Greater than or equal to\n",
    "print(3 < 2)  # Less than\n",
    "print(3 <= 2) # Less than or equal to\n",
    "print(3 == 2) # Equal to\n",
    "print(3 != 2) # Not equal to\n",
    "print(3 == 3) # Equal to\n",
    "print(3 != 3) # Not equal to"
   ]
  },
  {
   "cell_type": "code",
   "execution_count": 6,
   "id": "97f6e459",
   "metadata": {},
   "outputs": [
    {
     "name": "stdout",
     "output_type": "stream",
     "text": [
      "True\n",
      "False\n",
      "False\n",
      "True\n"
     ]
    }
   ],
   "source": [
    "print( \"bag\" > \"apple\") # compares first character of both strings\n",
    "print( \"bag\" == \"Bag\")   # compares ASCII values of characters\n",
    "print( \"bag\" >= \"bat\")   # compares first different character of both strings\n",
    "print( \"bag\" < \"baggage\") # compares first different character of both strings"
   ]
  },
  {
   "cell_type": "markdown",
   "id": "1c33a9e2",
   "metadata": {},
   "source": [
    "2. Conditional Statements"
   ]
  },
  {
   "cell_type": "code",
   "execution_count": 8,
   "id": "fd94c197",
   "metadata": {},
   "outputs": [
    {
     "name": "stdout",
     "output_type": "stream",
     "text": [
      "It's a hot day\n",
      "Drink plenty of water\n"
     ]
    }
   ],
   "source": [
    "# if statement\n",
    "\n",
    "temperature = 35\n",
    "\n",
    "if temperature > 30:\n",
    "    print(\"It's a hot day\")\n",
    "    print(\"Drink plenty of water\")\n",
    "    \n",
    "elif temperature > 20:\n",
    "    print(\"It's a nice day\")\n",
    "    \n",
    "else:\n",
    "    print(\"It's not a hot day\")\n",
    "    print(\"Enjoy your day\")\n"
   ]
  },
  {
   "cell_type": "code",
   "execution_count": 10,
   "id": "ee086c67",
   "metadata": {},
   "outputs": [
    {
     "name": "stdout",
     "output_type": "stream",
     "text": [
      "You are eligible to vote.\n"
     ]
    }
   ],
   "source": [
    "# if statement\n",
    "\n",
    "age = int(input(\"Enter your age: \"))\n",
    "if age >= 18:\n",
    "    print(\"You are eligible to vote.\")\n",
    "else:\n",
    "    print(\"You are not eligible to vote.\")"
   ]
  },
  {
   "cell_type": "markdown",
   "id": "9aa618c1",
   "metadata": {},
   "source": [
    "Cleaner approach in conditional statement\n"
   ]
  },
  {
   "cell_type": "code",
   "execution_count": 11,
   "id": "8be3a627",
   "metadata": {},
   "outputs": [
    {
     "name": "stdout",
     "output_type": "stream",
     "text": [
      "Eligible to vote\n"
     ]
    }
   ],
   "source": [
    "age = 22\n",
    "\n",
    "if age >= 18:\n",
    "    message = \"Eligible to vote\"\n",
    "else:\n",
    "    message = \"Not eligible to vote\"  \n",
    "      \n",
    "print(message)"
   ]
  },
  {
   "cell_type": "code",
   "execution_count": 12,
   "id": "3c00fc36",
   "metadata": {},
   "outputs": [
    {
     "name": "stdout",
     "output_type": "stream",
     "text": [
      "Eligible to vote\n"
     ]
    }
   ],
   "source": [
    "message = \"Eligible to vote\" if age >= 18 else \"Not eligible to vote\"\n",
    "print(message)"
   ]
  },
  {
   "cell_type": "markdown",
   "id": "28173679",
   "metadata": {},
   "source": [
    "3. Logical Operators    "
   ]
  },
  {
   "cell_type": "code",
   "execution_count": null,
   "id": "86d484f9",
   "metadata": {},
   "outputs": [
    {
     "name": "stdout",
     "output_type": "stream",
     "text": [
      "Eligible for loan\n"
     ]
    }
   ],
   "source": [
    "# logical \"and\" Operators\n",
    "\n",
    "high_income = True\n",
    "good_credit = True\n",
    "\n",
    "if high_income and good_credit: # both conditions must be true, no need to write \"== True\" or false\n",
    "    print(\"Eligible for loan\") \n",
    "else:\n",
    "    print(\"Not eligible for loan\")\n",
    "    "
   ]
  },
  {
   "cell_type": "code",
   "execution_count": 14,
   "id": "d905b41a",
   "metadata": {},
   "outputs": [
    {
     "name": "stdout",
     "output_type": "stream",
     "text": [
      "Eligible for loan\n"
     ]
    }
   ],
   "source": [
    "# logical or operators\n",
    "\n",
    "high_income = True\n",
    "good_credit = False \n",
    "\n",
    "if high_income or good_credit: # at least one condition must be true\n",
    "    print(\"Eligible for loan\")\n",
    "else:\n",
    "    print(\"Not eligible for loan\")"
   ]
  },
  {
   "cell_type": "code",
   "execution_count": 16,
   "id": "0755ba03",
   "metadata": {},
   "outputs": [
    {
     "name": "stdout",
     "output_type": "stream",
     "text": [
      "Not eligible for loan\n"
     ]
    }
   ],
   "source": [
    "# not operator\n",
    "# reverses the value of boolean expression\n",
    "# false condition wont be executed if we use \"not\" operator\n",
    "\n",
    "high_income = True\n",
    "good_credit = False\n",
    "student = True\n",
    "\n",
    "if (high_income or good_credit) and not student:\n",
    "    print(\"Eligible for loan\")\n",
    "else:\n",
    "    print(\"Not eligible for loan\")"
   ]
  },
  {
   "cell_type": "markdown",
   "id": "7670fffd",
   "metadata": {},
   "source": [
    "4. Short Circuit"
   ]
  },
  {
   "cell_type": "code",
   "execution_count": null,
   "id": "614595b9",
   "metadata": {},
   "outputs": [
    {
     "name": "stdout",
     "output_type": "stream",
     "text": [
      "Eligible for loan\n"
     ]
    }
   ],
   "source": [
    "# short circuit\n",
    "# if first condition is true, second condition will not be checked\n",
    "# Means the evaluation stops as soon as the result is determined\n",
    "\n",
    "high_income = True\n",
    "good_credit = False\n",
    "if good_credit or high_income: # if first condition is true, second condition will not be checked\n",
    "    print(\"Eligible for loan\")\n",
    "else:\n",
    "    print(\"Not eligible for loan\")\n",
    "    "
   ]
  },
  {
   "cell_type": "markdown",
   "id": "98890583",
   "metadata": {},
   "source": [
    "5. Chaining Comparison Operator"
   ]
  },
  {
   "cell_type": "code",
   "execution_count": 18,
   "id": "7f540b05",
   "metadata": {},
   "outputs": [
    {
     "name": "stdout",
     "output_type": "stream",
     "text": [
      "Eligible to work\n"
     ]
    }
   ],
   "source": [
    "# chaining comparison operator\n",
    "# to check if a value is within a range\n",
    "\n",
    "age = 22\n",
    "if 18 <= age < 65:  # equivalent to (age >= 18 and age < 65)\n",
    "    print(\"Eligible to work\")\n",
    "else:\n",
    "    print(\"Not eligible to work\")"
   ]
  },
  {
   "cell_type": "markdown",
   "id": "45b22f21",
   "metadata": {},
   "source": [
    "Excercise   "
   ]
  },
  {
   "cell_type": "code",
   "execution_count": null,
   "id": "18ee0dad",
   "metadata": {},
   "outputs": [
    {
     "name": "stdout",
     "output_type": "stream",
     "text": [
      "c\n"
     ]
    }
   ],
   "source": [
    "# What will be the output of this code?\n",
    "\n",
    "if 10 == \"10\":\n",
    "    print(\"a\")\n",
    "elif \"bag\" > \"apple\" and \"bag\" > \"cat\":\n",
    "    print(\"b\")  \n",
    "else:\n",
    "    print(\"c\")\n",
    "    \n",
    "# explanation:\n",
    "# 10 is integer and \"10\" is string, so first condition is false\n",
    "# Lets say \"bag\" > \"apple\" is true then \"bag\" > \"cat\" is false\n",
    "# so second condition is false\n",
    "# so the output will be \"c\"\n"
   ]
  },
  {
   "cell_type": "markdown",
   "id": "e87c3756",
   "metadata": {},
   "source": [
    "6. For loops"
   ]
  },
  {
   "cell_type": "markdown",
   "id": "7f18a282",
   "metadata": {},
   "source": [
    "For loops is used to iterate over a sequence like a list, tuple, dictionary, set etc. Iterating means going through each item in the sequence one by one. So we can perform an action with each item. "
   ]
  },
  {
   "cell_type": "code",
   "execution_count": null,
   "id": "0ecc5556",
   "metadata": {},
   "outputs": [],
   "source": [
    "# syntax:\n",
    "\n",
    "for item in collection:\n",
    "    # do something with item"
   ]
  },
  {
   "cell_type": "code",
   "execution_count": null,
   "id": "b3abeebd",
   "metadata": {},
   "outputs": [
    {
     "name": "stdout",
     "output_type": "stream",
     "text": [
      "John\n",
      "Bob\n",
      "Mosh\n",
      "Sarah\n",
      "Mary\n"
     ]
    }
   ],
   "source": [
    "# excrise\n",
    "\n",
    "names = [\"John\", \"Bob\", \"Mosh\", \"Sarah\", \"Mary\"] # a list of names\n",
    "\n",
    "for item in names: # iterate over each name in the list\n",
    "    print(item) # print the name"
   ]
  },
  {
   "cell_type": "code",
   "execution_count": 22,
   "id": "69a0c987",
   "metadata": {},
   "outputs": [
    {
     "name": "stdout",
     "output_type": "stream",
     "text": [
      "1\n",
      "2\n",
      "3\n",
      "4\n",
      "5\n"
     ]
    }
   ],
   "source": [
    "# excercise\n",
    "# print numbers from 1 to 5\n",
    "\n",
    "for number in range(1, 6): # range function generates numbers from 1 to 5\n",
    "    print(number)"
   ]
  },
  {
   "cell_type": "code",
   "execution_count": 23,
   "id": "9ce72805",
   "metadata": {},
   "outputs": [
    {
     "name": "stdout",
     "output_type": "stream",
     "text": [
      "2\n",
      "4\n",
      "6\n",
      "8\n",
      "10\n"
     ]
    }
   ],
   "source": [
    "# excercise\n",
    "# print range of even numbers from 2 to 10\n",
    "\n",
    "for number in range(2, 11, 2): # range syntax: range(start value, stop value, step)\n",
    "    print(number)"
   ]
  },
  {
   "cell_type": "code",
   "execution_count": null,
   "id": "2423e5e0",
   "metadata": {},
   "outputs": [
    {
     "name": "stdout",
     "output_type": "stream",
     "text": [
      "Attempt 1\n",
      "Attempt 2\n",
      "Attempt 3\n",
      "Attempt 4\n",
      "Attempt 5\n"
     ]
    }
   ],
   "source": [
    "#excercise\n",
    "\n",
    "for number in range(5):\n",
    "    print(\"Attempt\", number + 1) # by using comma operator we can print multiple values in a single print statement"
   ]
  },
  {
   "cell_type": "code",
   "execution_count": null,
   "id": "4d3125f0",
   "metadata": {},
   "outputs": [
    {
     "name": "stdout",
     "output_type": "stream",
     "text": [
      "Attempt 1 .\n",
      "Attempt 2 ..\n",
      "Attempt 3 ...\n",
      "Attempt 4 ....\n",
      "Attempt 5 .....\n"
     ]
    }
   ],
   "source": [
    "#excercise\n",
    "\n",
    "for number in range(5): \n",
    "    print(\"Attempt\", number + 1, (number + 1) * \".\")\n",
    "    \n",
    "# string concatenation and multiplication"
   ]
  },
  {
   "cell_type": "code",
   "execution_count": null,
   "id": "33eea16b",
   "metadata": {},
   "outputs": [
    {
     "name": "stdout",
     "output_type": "stream",
     "text": [
      "Attempt 1.\n",
      "Attempt 2..\n",
      "Attempt 3...\n",
      "Attempt 4....\n",
      "Attempt 5.....\n"
     ]
    }
   ],
   "source": [
    "# Cleaner approach\n",
    "for number in range(1, 6):\n",
    "    print(f\"Attempt {number}{'.' * (number)}\")\n",
    "\n",
    "# by using range we eliminated the need to add 1 to number in each iteration"
   ]
  },
  {
   "cell_type": "code",
   "execution_count": 25,
   "id": "713d9f22",
   "metadata": {},
   "outputs": [
    {
     "name": "stdout",
     "output_type": "stream",
     "text": [
      "3\n",
      "7\n",
      "2\n",
      "2\n",
      "6\n"
     ]
    }
   ],
   "source": [
    "# excercise\n",
    "# Generate radom value between 1 and 10\n",
    "\n",
    "import random as rd # short form of random module\n",
    "for item in range(5): # generate 5 random numbers\n",
    "    print(rd.randint(1, 10)) # randint function generates random integer between given range"
   ]
  },
  {
   "cell_type": "markdown",
   "id": "8f2cc512",
   "metadata": {},
   "source": [
    "7. For Else"
   ]
  },
  {
   "cell_type": "code",
   "execution_count": 30,
   "id": "e9a800cc",
   "metadata": {},
   "outputs": [
    {
     "name": "stdout",
     "output_type": "stream",
     "text": [
      "Attempt 1\n",
      "Successful\n"
     ]
    }
   ],
   "source": [
    "# successful message and break out of loop excercise\n",
    "\n",
    "succeful = True\n",
    "for number in range(1,4):\n",
    "    print(f\"Attempt {number}\")\n",
    "    \n",
    "    if succeful:\n",
    "        print(\"Successful\")\n",
    "        break"
   ]
  },
  {
   "cell_type": "code",
   "execution_count": 31,
   "id": "11d9ede1",
   "metadata": {},
   "outputs": [
    {
     "name": "stdout",
     "output_type": "stream",
     "text": [
      "Attempt 1\n",
      "Attempt 2\n",
      "Attempt 3\n",
      "All attempts failed\n"
     ]
    }
   ],
   "source": [
    "# message sending trial not successful\n",
    "\n",
    "succeful = False\n",
    "for number in range(1,4):\n",
    "    print(f\"Attempt {number}\")\n",
    "    \n",
    "    if succeful:\n",
    "        print(\"Successful\")\n",
    "        break\n",
    "else:\n",
    "    print(\"All attempts failed\")"
   ]
  },
  {
   "cell_type": "markdown",
   "id": "b7799a82",
   "metadata": {},
   "source": [
    "8. Nested loops\n"
   ]
  },
  {
   "cell_type": "markdown",
   "id": "90fd2e1f",
   "metadata": {},
   "source": [
    "explanation of the code below: for the first iteration of outer loop (x=0), inner loop will run 3 times (y=0,1,2)\n",
    "then for the second iteration of outer loop (x=1), inner loop will run 3 times (y=0,1,2)\n",
    "and the process goes on until the outer loop is completed"
   ]
  },
  {
   "cell_type": "code",
   "execution_count": null,
   "id": "aa61d490",
   "metadata": {},
   "outputs": [
    {
     "name": "stdout",
     "output_type": "stream",
     "text": [
      "(0, 0)\n",
      "(0, 1)\n",
      "(0, 2)\n",
      "(1, 0)\n",
      "(1, 1)\n",
      "(1, 2)\n",
      "(2, 0)\n",
      "(2, 1)\n",
      "(2, 2)\n",
      "(3, 0)\n",
      "(3, 1)\n",
      "(3, 2)\n"
     ]
    },
    {
     "data": {
      "text/plain": [
       "'\\nfor the first iteration of outer loop (x=0), inner loop will run 3 times (y=0,1,2)\\nthen for the second iteration of outer loop (x=1), inner loop will run 3 times (y=0,1,2)\\nand the process goes on until the outer loop is completed\\n'"
      ]
     },
     "execution_count": 33,
     "metadata": {},
     "output_type": "execute_result"
    }
   ],
   "source": [
    "# create coordinates using nested loops\n",
    "\n",
    "for x in range(4):                # outer loop\n",
    "    for y in range(3):            # inner loop\n",
    "        print(f\"({x}, {y})\")      # print coordinates\n",
    "        \n",
    "    \n"
   ]
  },
  {
   "cell_type": "markdown",
   "id": "f813c654",
   "metadata": {},
   "source": [
    "9. Iterables"
   ]
  },
  {
   "cell_type": "code",
   "execution_count": 34,
   "id": "2e9085a0",
   "metadata": {},
   "outputs": [
    {
     "name": "stdout",
     "output_type": "stream",
     "text": [
      "P\n",
      "y\n",
      "t\n",
      "h\n",
      "o\n",
      "n\n"
     ]
    }
   ],
   "source": [
    "# string is an iterable for example\n",
    "\n",
    "for char in \"Python\":\n",
    "    print(char)\n",
    "    "
   ]
  },
  {
   "cell_type": "code",
   "execution_count": 36,
   "id": "9c41e395",
   "metadata": {},
   "outputs": [
    {
     "name": "stdout",
     "output_type": "stream",
     "text": [
      "3\n",
      "6\n",
      "2\n",
      "8\n",
      "4\n",
      "10\n"
     ]
    }
   ],
   "source": [
    "#excercise\n",
    "\n",
    "numbers = [3, 6, 2, 8, 4, 10] # list of numbers\n",
    "for item in numbers:\n",
    "    print(item)\n"
   ]
  },
  {
   "cell_type": "markdown",
   "id": "57edce41",
   "metadata": {},
   "source": [
    "10. While loop"
   ]
  },
  {
   "cell_type": "markdown",
   "id": "bf1e3e64",
   "metadata": {},
   "source": [
    "while loop will keep executing as long as the condition is true. When the condition becomes false, the loop stops."
   ]
  },
  {
   "cell_type": "code",
   "execution_count": null,
   "id": "42bf7843",
   "metadata": {},
   "outputs": [],
   "source": [
    "# syntax:\n",
    "\n",
    "while condition:\n",
    "    # do something\n",
    "    # increment or decrement of the condition variable"
   ]
  },
  {
   "cell_type": "code",
   "execution_count": null,
   "id": "c8cdca4e",
   "metadata": {},
   "outputs": [
    {
     "name": "stdout",
     "output_type": "stream",
     "text": [
      "0\n",
      "1\n",
      "2\n",
      "3\n",
      "4\n"
     ]
    }
   ],
   "source": [
    "# excercise\n",
    "\n",
    "number = 0          # initial value\n",
    "while number < 5:   # condition\n",
    "    print(number)   # print the value of number\n",
    "    number += 1     # increment the value of number by 1\n",
    "    \n",
    "# while loop may never end if we forget to increment or decrement the condition variable"
   ]
  },
  {
   "cell_type": "code",
   "execution_count": 43,
   "id": "0238e196",
   "metadata": {},
   "outputs": [
    {
     "name": "stdout",
     "output_type": "stream",
     "text": [
      "1\n",
      "2\n",
      "3\n",
      "4\n",
      "5\n"
     ]
    }
   ],
   "source": [
    "# excercise\n",
    "\n",
    "i = 1\n",
    "while i <= 5:\n",
    "    print(i)\n",
    "    i += 1"
   ]
  },
  {
   "cell_type": "code",
   "execution_count": 56,
   "id": "5d7fb85b",
   "metadata": {},
   "outputs": [
    {
     "name": "stdout",
     "output_type": "stream",
     "text": [
      "2\n",
      "4\n",
      "6\n",
      "8\n",
      "10\n",
      "\n",
      "Total even numbers: 5\n"
     ]
    }
   ],
   "source": [
    "# excercise\n",
    "# Display the even numbers between 1 and 10 and then print total count\n",
    "# use the range function\n",
    "\n",
    "count = 0\n",
    "for number in range(1, 11):\n",
    "    if number % 2 == 0:\n",
    "        print(number)\n",
    "        count += 1            # every time we find an even number, we increment the count by 1\n",
    "\n",
    "print(f\"\\nTotal even numbers: {count}\")   # \"\\n\" is used to print in new line"
   ]
  },
  {
   "cell_type": "code",
   "execution_count": 58,
   "id": "edacfd47",
   "metadata": {},
   "outputs": [
    {
     "name": "stdout",
     "output_type": "stream",
     "text": [
      "2\n",
      "4\n",
      "6\n",
      "8\n",
      "10\n",
      "\n",
      "Total even numbers: 5\n"
     ]
    }
   ],
   "source": [
    "# use while loop to achieve the same result\n",
    "count = 0\n",
    "number = 1\n",
    "while number <= 10:\n",
    "    if number % 2 == 0:\n",
    "        print(number)\n",
    "        count += 1\n",
    "    number += 1\n",
    "print(f\"\\nTotal even numbers: {count}\")   # \"\\n\" is used to print in new line\n"
   ]
  }
 ],
 "metadata": {
  "kernelspec": {
   "display_name": ".venv",
   "language": "python",
   "name": "python3"
  },
  "language_info": {
   "codemirror_mode": {
    "name": "ipython",
    "version": 3
   },
   "file_extension": ".py",
   "mimetype": "text/x-python",
   "name": "python",
   "nbconvert_exporter": "python",
   "pygments_lexer": "ipython3",
   "version": "3.13.7"
  }
 },
 "nbformat": 4,
 "nbformat_minor": 5
}
