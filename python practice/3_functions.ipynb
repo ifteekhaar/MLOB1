{
 "cells": [
  {
   "cell_type": "markdown",
   "id": "d64ee199",
   "metadata": {},
   "source": [
    "# Functions\n"
   ]
  },
  {
   "cell_type": "markdown",
   "id": "4a707175",
   "metadata": {},
   "source": [
    "1. defining functions"
   ]
  },
  {
   "cell_type": "code",
   "execution_count": null,
   "id": "23e375c9",
   "metadata": {},
   "outputs": [],
   "source": [
    "# function syntax\n",
    "def function_name(parameter):              # function definition\n",
    "    print(\"Hello!\")                         # function body\n",
    "    print(\"Welcome aboard\")                   # function body\n",
    "    \n",
    "    # two line indentation is required\n",
    "function call"
   ]
  },
  {
   "cell_type": "code",
   "execution_count": null,
   "id": "35fc4983",
   "metadata": {},
   "outputs": [
    {
     "name": "stdout",
     "output_type": "stream",
     "text": [
      "Hello!\n",
      "Welcome aboard\n"
     ]
    }
   ],
   "source": [
    "def greet_user():\n",
    "    print(\"Hello!\")\n",
    "    print(\"Welcome aboard\")\n",
    "                                \n",
    "                                    \n",
    "greet_user()"
   ]
  },
  {
   "cell_type": "code",
   "execution_count": null,
   "id": "feff733c",
   "metadata": {},
   "outputs": [
    {
     "name": "stdout",
     "output_type": "stream",
     "text": [
      "Hello John!\n",
      "Welcome aboard\n",
      "Hello Mary!\n",
      "Welcome aboard\n",
      "Hello Sam!\n",
      "Welcome aboard\n"
     ]
    }
   ],
   "source": [
    "# function with parameter\n",
    "\n",
    "def greet_user(name):             # name is a parameter\n",
    "    print(f\"Hello {name}!\")\n",
    "    print(\"Welcome aboard\")\n",
    "    \n",
    "    \n",
    "greet_user(\"John\")     # \"John\" is an argument\n",
    "greet_user(\"Mary\")     # calling the function again with different argument\n",
    "greet_user(\"Sam\")\n"
   ]
  },
  {
   "cell_type": "code",
   "execution_count": null,
   "id": "2c448425",
   "metadata": {},
   "outputs": [
    {
     "name": "stdout",
     "output_type": "stream",
     "text": [
      "Hello John Smith!\n",
      "Welcome aboard\n",
      "Hello Mary Jane!\n",
      "Welcome aboard\n",
      "Hello Sam Adams!\n",
      "Welcome aboard\n"
     ]
    }
   ],
   "source": [
    "# multiple parameters\n",
    "\n",
    "def greet_user(first_name, last_name):   \n",
    "    print(f\"Hello {first_name} {last_name}!\")\n",
    "    print(\"Welcome aboard\")\n",
    "    \n",
    "    \n",
    "greet_user(\"John\", \"Smith\") \n",
    "greet_user(\"Mary\", \"Jane\")\n",
    "greet_user(\"Sam\", \"Adams\")"
   ]
  },
  {
   "cell_type": "markdown",
   "id": "f6e671d3",
   "metadata": {},
   "source": [
    "2. Return Statement\n",
    "\n",
    "print shows the output on screen but it doesnt give back the data to program. Return statement returns the value to use it elsewhere in the code. We dont need to always just display the output but use that in somewhere else. So return statement is the best way to do it. By this we can display as well as use that somewhere else"
   ]
  },
  {
   "cell_type": "code",
   "execution_count": 8,
   "id": "705a4a83",
   "metadata": {},
   "outputs": [
    {
     "name": "stdout",
     "output_type": "stream",
     "text": [
      "Hello Alice!\n"
     ]
    }
   ],
   "source": [
    "# print \n",
    "\n",
    "def greet(name):\n",
    "    print(f\"Hello {name}!\")  # directly prints the message\n",
    "    \n",
    "\n",
    "greet(\"Alice\")\n"
   ]
  },
  {
   "cell_type": "code",
   "execution_count": 11,
   "id": "0c7fdfe1",
   "metadata": {},
   "outputs": [
    {
     "name": "stdout",
     "output_type": "stream",
     "text": [
      "Hello Alice!\n",
      "Hello Bob!\n"
     ]
    }
   ],
   "source": [
    "# return \n",
    "\n",
    "def greet(name):\n",
    "    return f\"Hello {name}!\"  # returns the message instead of printing it\n",
    "\n",
    "message = greet(\"Alice\")  # storing the returned value in a variable\n",
    "print(message)            # print the returned message\n",
    "print(greet(\"Bob\"))      # directly printing the returned value\n"
   ]
  },
  {
   "cell_type": "markdown",
   "id": "9e831e0b",
   "metadata": {},
   "source": [
    "3. Keywords Argument"
   ]
  },
  {
   "cell_type": "code",
   "execution_count": 15,
   "id": "760004e6",
   "metadata": {},
   "outputs": [
    {
     "name": "stdout",
     "output_type": "stream",
     "text": [
      "3\n",
      "3\n",
      "3\n"
     ]
    }
   ],
   "source": [
    "# keyword arguments\n",
    "\n",
    "def increment(number, by):\n",
    "    return number + by                 # returns the sum of number and by\n",
    "\n",
    "print(increment(2, 1))                 # positional arguments\n",
    "\n",
    "# now to make to code more readable we can use keyword arguments\n",
    "\n",
    "print(increment(number=2, by=1))       # keyword arguments\n",
    "print(increment(by=1, number=2))       # keyword arguments can be in any order\n"
   ]
  },
  {
   "cell_type": "code",
   "execution_count": 17,
   "id": "6faad96a",
   "metadata": {},
   "outputs": [
    {
     "name": "stdout",
     "output_type": "stream",
     "text": [
      "3\n",
      "5\n"
     ]
    }
   ],
   "source": [
    "# keyword arguments with default values\n",
    "\n",
    "def increment(number, by=1):           # by has a default value of 1\n",
    "    return number + by\n",
    "\n",
    "print(increment(2))                     # by will take the default value of 1\n",
    "print(increment(2, 3))                  # by will take the value of 3"
   ]
  },
  {
   "cell_type": "markdown",
   "id": "3e72b743",
   "metadata": {},
   "source": [
    "5. xargs"
   ]
  },
  {
   "cell_type": "code",
   "execution_count": 20,
   "id": "265119a1",
   "metadata": {},
   "outputs": [
    {
     "name": "stdout",
     "output_type": "stream",
     "text": [
      "6\n"
     ]
    }
   ],
   "source": [
    "# multipying many numbers\n",
    "\n",
    "def multiply(x, y):\n",
    "    return x * y\n",
    "\n",
    "print(multiply(2, 3))\n",
    "\n",
    "# we can just multiply 2 numbers as only 2 parameters are defined.\n",
    "# what if we want to multiply many numbers\n",
    "# we can use *args\n"
   ]
  },
  {
   "cell_type": "code",
   "execution_count": null,
   "id": "e0f00587",
   "metadata": {},
   "outputs": [
    {
     "name": "stdout",
     "output_type": "stream",
     "text": [
      "(2, 3)\n",
      "(2, 3, 4)\n",
      "(2, 3, 4, 5)\n"
     ]
    }
   ],
   "source": [
    "def multiply(*numbers):          # * means we can give as many arguments as we want\n",
    "    print(numbers)               # we get a tuple of arguments\n",
    "    \n",
    "multiply(2, 3)\n",
    "multiply(2, 3, 4)\n",
    "multiply(2, 3, 4, 5)\n",
    "\n",
    "# tuple: an immutable list with round brackets\n",
    "# list: a mutable list with square brackets\n",
    "# set: an unordered collection with curly brackets"
   ]
  },
  {
   "cell_type": "code",
   "execution_count": null,
   "id": "6b1ff43e",
   "metadata": {},
   "outputs": [
    {
     "name": "stdout",
     "output_type": "stream",
     "text": [
      "6\n",
      "24\n"
     ]
    }
   ],
   "source": [
    "# using for loop to itereate each element of the tuple\n",
    "\n",
    "def multiply(*numbers):\n",
    "    total = 1                      # initialize total to 1 for multiplication\n",
    "    for number in numbers:         \n",
    "        total *= number            # multiply each number with total\n",
    "    return total                   # indentarion of return should be outside the for loop\n",
    "\n",
    "print(multiply(2, 3))\n",
    "print(multiply(2, 3, 4))"
   ]
  },
  {
   "cell_type": "markdown",
   "id": "759c860f",
   "metadata": {},
   "source": [
    "6. xxargs"
   ]
  },
  {
   "cell_type": "code",
   "execution_count": null,
   "id": "a6a0545f",
   "metadata": {},
   "outputs": [],
   "source": [
    "# **args\n",
    "# its used to pass multiple key value pair of arguments to a function\n",
    "# key value pair example: name=\"John\", age=30\n",
    "# example: a function that accepts a dictionary as an argument\n",
    "# dictionary: a collection of key value pairs with curly brackets\n",
    "\n",
    "# syntax\n",
    "def function_name(**args):    # args is a convention, you can use any name\n",
    "    do something\n",
    "    \n",
    "    "
   ]
  },
  {
   "cell_type": "code",
   "execution_count": null,
   "id": "2f3a5443",
   "metadata": {},
   "outputs": [
    {
     "name": "stdout",
     "output_type": "stream",
     "text": [
      "{'name': 'John', 'age': 30, 'id': 1, 'country': 'USA'}\n"
     ]
    }
   ],
   "source": [
    "def user_info(**user):         # user is a dictionary\n",
    "    print(user)                # prints the dictionary\n",
    "    \n",
    "user_info(name = \"John\", age = 30, id = 1, country = \"Denmark\")\n",
    "\n",
    "# you can pass as many key value pairs as you want\n",
    "# it will be stored in a dictionary"
   ]
  },
  {
   "cell_type": "markdown",
   "id": "2ab1e2a2",
   "metadata": {},
   "source": [
    "7. Scope"
   ]
  },
  {
   "cell_type": "code",
   "execution_count": 2,
   "id": "5c39882b",
   "metadata": {},
   "outputs": [],
   "source": [
    "# scope is the region where a variable is defined\n",
    "# local scope: a variable defined inside a function is only accessible inside that function\n",
    "# global scope: a variable defined outside a function is accessible anywhere in the file"
   ]
  },
  {
   "cell_type": "code",
   "execution_count": null,
   "id": "37d36ea2",
   "metadata": {},
   "outputs": [],
   "source": [
    "def greet():\n",
    "    message = \"Hello\"           # local variable\n",
    "    print(message)\n",
    "\n",
    "print(message)              \n",
    "# this will give an error as message is not defined outside the function\n",
    "# because message is defined in the function greet only. \n",
    "# If it were defined outside the function, it would be a global variable and accessible anywhere in the file."
   ]
  },
  {
   "cell_type": "code",
   "execution_count": null,
   "id": "7b31d8e4",
   "metadata": {},
   "outputs": [],
   "source": [
    "def greet(name):\n",
    "    message = \"a\"\n",
    "    \n",
    "def send_email(name):\n",
    "   message = \"b\"\n",
    "\n",
    "greet(\"John\")\n",
    "send_email(\"John\")\n",
    "\n",
    "# we can define multiple functions with the same variable name as they are in different scopes\n",
    "# its the benefit of local scope"
   ]
  },
  {
   "cell_type": "code",
   "execution_count": 11,
   "id": "bb53e0d7",
   "metadata": {},
   "outputs": [
    {
     "name": "stdout",
     "output_type": "stream",
     "text": [
      "something else\n",
      "Hello\n"
     ]
    }
   ],
   "source": [
    "# global variable\n",
    "\n",
    "message = \"Hello\"                  # global variable\n",
    "\n",
    "def greet():\n",
    "    message = \"something else\"     # a local variable with the same name as the global variable\n",
    "    print(message)                 # prints the local variable\n",
    "    \n",
    "greet()\n",
    "print(message)                     # prints the global variable"
   ]
  },
  {
   "cell_type": "markdown",
   "id": "126f9408",
   "metadata": {},
   "source": [
    "8. Debugging"
   ]
  },
  {
   "cell_type": "code",
   "execution_count": null,
   "id": "416a8604",
   "metadata": {},
   "outputs": [
    {
     "name": "stdout",
     "output_type": "stream",
     "text": [
      "start\n",
      "24\n"
     ]
    }
   ],
   "source": [
    "# Lets see a previous example \n",
    "\n",
    "def multiply(*numbers):            # * means we can give as many arguments as we want\n",
    "    total = 1                      # initialize total to 1 for multiplication\n",
    "    for number in numbers:         \n",
    "        total *= number            # multiply each number with total\n",
    "    return total                   # indentarion of return should be outside the for loop\n",
    "\n",
    "print(\"start\")\n",
    "print(multiply(2, 3, 4))\n",
    "\n"
   ]
  },
  {
   "cell_type": "code",
   "execution_count": 19,
   "id": "72018c8d",
   "metadata": {},
   "outputs": [
    {
     "name": "stdout",
     "output_type": "stream",
     "text": [
      "start\n",
      "2\n"
     ]
    }
   ],
   "source": [
    "# Now lets create a bug in the above function\n",
    "# we wont use proper indentation for return statement\n",
    "\n",
    "def multiply(*numbers):          \n",
    "    total = 1                      \n",
    "    for number in numbers:         \n",
    "        total *= number           \n",
    "        return total               # wrong indentation, it should be outside the for loop\n",
    "    \n",
    "print(\"start\")\n",
    "print(multiply(2, 3, 4))          # this will return 2 due to wrong indentation"
   ]
  },
  {
   "cell_type": "markdown",
   "id": "1e1e1e52",
   "metadata": {},
   "source": [
    "Lets see how to debug"
   ]
  },
  {
   "cell_type": "code",
   "execution_count": null,
   "id": "19d6fe2c",
   "metadata": {},
   "outputs": [],
   "source": [
    "# Debugging\n",
    "# Debugging is the process of finding and fixing bugs in the code\n",
    "# we can use print statements to debug the code\n",
    "# we can also use a debugger tool to debug the code"
   ]
  },
  {
   "cell_type": "markdown",
   "id": "47e90569",
   "metadata": {},
   "source": [
    "1. We need to open the debugging panel\n",
    "2. Then select debugging option\n",
    "3. like python debugger for this one\n",
    "4. Debug in terminal"
   ]
  },
  {
   "cell_type": "code",
   "execution_count": null,
   "id": "f3db410a",
   "metadata": {},
   "outputs": [],
   "source": [
    "# Watch vedio for this part"
   ]
  },
  {
   "cell_type": "markdown",
   "id": "75463f1c",
   "metadata": {},
   "source": [
    "9. Excercise"
   ]
  },
  {
   "cell_type": "markdown",
   "id": "0e574d70",
   "metadata": {},
   "source": [
    "The fizz_buzz problem\n",
    "Rules:\n",
    " 1. print fizz if number is divisible by 3\n",
    " 2. print buzz if number is divisible by 5\n",
    " 3. print fizzbuzz if number is divisible by both 3 and 5\n",
    " 4. print the input number if it is not divisible by 3 or 5"
   ]
  },
  {
   "cell_type": "code",
   "execution_count": 21,
   "id": "ea18e6d3",
   "metadata": {},
   "outputs": [
    {
     "name": "stdout",
     "output_type": "stream",
     "text": [
      "fizz\n",
      "buzz\n",
      "fizzbuzz\n",
      "7\n"
     ]
    }
   ],
   "source": [
    "# in if else we dont need else if we are returning in if block\n",
    "# we can directly write if statements one after another\n",
    "# we can directly return the input if none of the conditions are met\n",
    "\n",
    "\n",
    "def fizz_buzz(input):\n",
    "    if input % 3 == 0 and input % 5 == 0:  # multiple conditions should be checked first\n",
    "        return \"fizzbuzz\"\n",
    "    if input % 3 == 0:                     # single condition are checked later\n",
    "        return \"fizz\"\n",
    "    if input % 5 == 0:                     # single condition are checked later\n",
    "        return \"buzz\"\n",
    "    return input\n",
    "\n",
    "print(fizz_buzz(3))\n",
    "print(fizz_buzz(5))\n",
    "print(fizz_buzz(15))\n",
    "print(fizz_buzz(7))"
   ]
  }
 ],
 "metadata": {
  "kernelspec": {
   "display_name": ".venv",
   "language": "python",
   "name": "python3"
  },
  "language_info": {
   "codemirror_mode": {
    "name": "ipython",
    "version": 3
   },
   "file_extension": ".py",
   "mimetype": "text/x-python",
   "name": "python",
   "nbconvert_exporter": "python",
   "pygments_lexer": "ipython3",
   "version": "3.13.7"
  }
 },
 "nbformat": 4,
 "nbformat_minor": 5
}
