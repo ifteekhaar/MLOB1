{
 "cells": [
  {
   "cell_type": "markdown",
   "id": "406f3b95",
   "metadata": {},
   "source": [
    "# Data Structure"
   ]
  },
  {
   "cell_type": "markdown",
   "id": "c0e036e2",
   "metadata": {},
   "source": [
    "1. ### List"
   ]
  },
  {
   "cell_type": "code",
   "execution_count": 4,
   "id": "32e1529e",
   "metadata": {},
   "outputs": [
    {
     "name": "stdout",
     "output_type": "stream",
     "text": [
      "[0, 0, 0, 0, 0]\n",
      "['a', 'b', 'c', 0, 0, 0, 0, 0]\n"
     ]
    }
   ],
   "source": [
    "letters = ['a', 'b', 'c']       # list\n",
    "matrix = [[0, 1], [2, 3]]       # list of lists or a 2D matrix\n",
    "matrix_2 = [\n",
    "    [0, 1],\n",
    "    [2, 3],\n",
    "    [3, 4]\n",
    "]\n",
    "zeros = [0] * 5                  # list of 5 zeros\n",
    "combined = letters + zeros       # concatenation\n",
    "\n",
    "print(zeros)\n",
    "print(combined)"
   ]
  },
  {
   "cell_type": "code",
   "execution_count": 6,
   "id": "61f752bc",
   "metadata": {},
   "outputs": [
    {
     "name": "stdout",
     "output_type": "stream",
     "text": [
      "[0, 1, 2, 3, 4, 5, 6, 7, 8, 9, 10, 11, 12, 13, 14, 15, 16, 17, 18, 19]\n",
      "['H', 'e', 'l', 'l', 'o', ' ', 'W', 'o', 'r', 'l', 'd']\n"
     ]
    }
   ],
   "source": [
    "# create a list using the list and range functions\n",
    "\n",
    "numbers = list(range(20))        # list of numbers from 0 to 19\n",
    "print(numbers)\n",
    "\n",
    "string = \"Hello World\"\n",
    "chars = list(string)             # list of characters in the string \n",
    "print(chars)"
   ]
  },
  {
   "cell_type": "markdown",
   "id": "4e9ab1f1",
   "metadata": {},
   "source": [
    "2. ### Accessing items "
   ]
  },
  {
   "cell_type": "code",
   "execution_count": null,
   "id": "afcb3c85",
   "metadata": {},
   "outputs": [
    {
     "name": "stdout",
     "output_type": "stream",
     "text": [
      "11\n",
      "H\n",
      "d\n",
      "['H', 'e', 'l', 'l', 'o']\n"
     ]
    }
   ],
   "source": [
    "string = \"Hello World\"\n",
    "chars = list(string)             # list of characters in the string\n",
    "\n",
    "print(len(chars))                # length of the list\n",
    "print(chars[0])                  # first element\n",
    "print(chars[-1])                 # last element\n",
    "print(chars[0:5])                # slicing\n"
   ]
  },
  {
   "cell_type": "code",
   "execution_count": 15,
   "id": "3284e9e0",
   "metadata": {},
   "outputs": [
    {
     "name": "stdout",
     "output_type": "stream",
     "text": [
      "['A', 'b', 'c']\n",
      "['A', 'c']\n"
     ]
    }
   ],
   "source": [
    "letters = [\"a\", \"b\", \"c\", \"d\"]  \n",
    "\n",
    "letters[0] = \"A\"\n",
    "print(letters[0:3])\n",
    "print(letters[::2])  # skips the second iteration"
   ]
  },
  {
   "cell_type": "code",
   "execution_count": 1,
   "id": "79c5296c",
   "metadata": {},
   "outputs": [
    {
     "name": "stdout",
     "output_type": "stream",
     "text": [
      "[0, 2, 4, 6, 8, 10, 12, 14, 16, 18]\n",
      "[19, 18, 17, 16, 15, 14, 13, 12, 11, 10, 9, 8, 7, 6, 5, 4, 3, 2, 1, 0]\n"
     ]
    }
   ],
   "source": [
    "numbers = list(range(20))\n",
    "print(numbers[::2])  # skips every second item\n",
    "print(numbers[::-1])"
   ]
  },
  {
   "cell_type": "markdown",
   "id": "40a0c8b3",
   "metadata": {},
   "source": [
    "3. ### Unpacking List"
   ]
  },
  {
   "cell_type": "code",
   "execution_count": null,
   "id": "b318d40c",
   "metadata": {},
   "outputs": [],
   "source": [
    "numbers = [1,2,3]\n",
    "first = numbers[0]\n",
    "second = numbers[1]\n",
    "third = numbers[2]\n",
    "\n",
    "# Efficient way :\n",
    "\n",
    "first, second, third = numbers \n",
    "print(first)\n",
    "print(second)\n",
    "\n",
    "#caution: variable and vaule should be equal \n",
    " "
   ]
  },
  {
   "cell_type": "code",
   "execution_count": 6,
   "id": "18157303",
   "metadata": {},
   "outputs": [
    {
     "name": "stdout",
     "output_type": "stream",
     "text": [
      "1\n",
      "2\n",
      "[3, 4, 4, 4, 4, 2, 2, 111]\n"
     ]
    }
   ],
   "source": [
    "numbers = [1,2,3,4,4,4,4,2,2,111]\n",
    "\n",
    "first, second, *other = numbers  # rest of will go to \"other\" list\n",
    "print(first)\n",
    "print(second)\n",
    "print(other)"
   ]
  },
  {
   "cell_type": "code",
   "execution_count": 7,
   "id": "b96a6be9",
   "metadata": {},
   "outputs": [
    {
     "name": "stdout",
     "output_type": "stream",
     "text": [
      "1 111\n",
      "[2, 3, 4, 4, 4, 4, 2, 2]\n"
     ]
    }
   ],
   "source": [
    "first , *other, last = numbers\n",
    "print(first, last)\n",
    "print(other)"
   ]
  },
  {
   "cell_type": "markdown",
   "id": "da81ffea",
   "metadata": {},
   "source": [
    "4. ### Looping over lists"
   ]
  },
  {
   "cell_type": "code",
   "execution_count": 9,
   "id": "ee34e83b",
   "metadata": {},
   "outputs": [
    {
     "name": "stdout",
     "output_type": "stream",
     "text": [
      "a\n",
      "b\n",
      "c\n"
     ]
    }
   ],
   "source": [
    "letters = ['a', 'b', 'c']\n",
    "\n",
    "for item in letters:\n",
    "    print(item)"
   ]
  },
  {
   "cell_type": "code",
   "execution_count": 11,
   "id": "7775269b",
   "metadata": {},
   "outputs": [
    {
     "name": "stdout",
     "output_type": "stream",
     "text": [
      "(0, 'a')\n",
      "(1, 'b')\n",
      "(2, 'c')\n"
     ]
    }
   ],
   "source": [
    "# enumerate function\n",
    "# it gives a tuple : (index, value)\n",
    "\n",
    "letters = ['a', 'b', 'c']\n",
    "\n",
    "for item in enumerate(letters):\n",
    "    print(item)"
   ]
  },
  {
   "cell_type": "code",
   "execution_count": 15,
   "id": "d5fb43a1",
   "metadata": {},
   "outputs": [
    {
     "name": "stdout",
     "output_type": "stream",
     "text": [
      "0 a\n",
      "1 b\n",
      "2 c\n"
     ]
    }
   ],
   "source": [
    "# excercise\n",
    "\n",
    "letters = ['a', 'b', 'c']\n",
    "\n",
    "for index, item in enumerate(letters):\n",
    "    print(index, item)\n",
    "    "
   ]
  },
  {
   "cell_type": "markdown",
   "id": "8d1f19e1",
   "metadata": {},
   "source": [
    "5. ### Ading or removing item from list"
   ]
  },
  {
   "cell_type": "code",
   "execution_count": null,
   "id": "333fa100",
   "metadata": {},
   "outputs": [
    {
     "name": "stdout",
     "output_type": "stream",
     "text": [
      "['a', 'b', 'c', 'd']\n",
      "['e', 'a', 'b', 'c', 'd']\n",
      "['e', 'a', 'e', 'b', 'c', 'd']\n",
      "['e', 'a', 'e', 'b', 'c']\n",
      "['e', 'a', 'b', 'c']\n",
      "['e', 'a', 'b']\n"
     ]
    }
   ],
   "source": [
    "letters = ['a', 'b', 'c'] \n",
    "\n",
    "letters.append('d')  # to add item at the end of the list\n",
    "print(letters)\n",
    "\n",
    "letters.insert(0, 'e')  # to add at specific index\n",
    "print(letters)\n",
    "    \n",
    "letters.insert(2, 'e')\n",
    "print(letters)\n",
    "\n",
    "letters.pop()  # to remove the last element\n",
    "print(letters)\n",
    "\n",
    "letters.pop(2)  # to remove the specific element\n",
    "print(letters)\n",
    "\n",
    "letters.remove('c')  #removes the first occurance of \"b\"\n",
    "print(letters)\n",
    "\n"
   ]
  },
  {
   "cell_type": "code",
   "execution_count": 37,
   "id": "fa2b4642",
   "metadata": {},
   "outputs": [
    {
     "name": "stdout",
     "output_type": "stream",
     "text": [
      "['b', 'c', 'd']\n"
     ]
    }
   ],
   "source": [
    "letters = ['a', 'b', 'c', 'd']\n",
    "\n",
    "del letters[0]\n",
    "print(letters)"
   ]
  },
  {
   "cell_type": "code",
   "execution_count": 35,
   "id": "70aef33f",
   "metadata": {},
   "outputs": [
    {
     "name": "stdout",
     "output_type": "stream",
     "text": [
      "['c', 'd']\n"
     ]
    }
   ],
   "source": [
    "letters = ['a', 'b', 'c', 'd']\n",
    "\n",
    "del letters[0:2]\n",
    "print(letters)"
   ]
  },
  {
   "cell_type": "code",
   "execution_count": 36,
   "id": "94e69be8",
   "metadata": {},
   "outputs": [
    {
     "name": "stdout",
     "output_type": "stream",
     "text": [
      "[]\n"
     ]
    }
   ],
   "source": [
    "letters = ['a', 'b', 'c', 'd']\n",
    "\n",
    "letters.clear()\n",
    "print(letters)"
   ]
  },
  {
   "cell_type": "markdown",
   "id": "13b86bf5",
   "metadata": {},
   "source": [
    "6. ### Finding items"
   ]
  },
  {
   "cell_type": "code",
   "execution_count": 38,
   "id": "a143b327",
   "metadata": {},
   "outputs": [
    {
     "name": "stdout",
     "output_type": "stream",
     "text": [
      "0\n",
      "1\n"
     ]
    }
   ],
   "source": [
    "letters = ['a', 'b', 'c', 'd']\n",
    "\n",
    "print(letters.index('a'))\n",
    "print(letters.index('b'))"
   ]
  },
  {
   "cell_type": "code",
   "execution_count": 39,
   "id": "cefb51d8",
   "metadata": {},
   "outputs": [
    {
     "name": "stdout",
     "output_type": "stream",
     "text": [
      "2\n",
      "1\n",
      "3\n",
      "0\n"
     ]
    }
   ],
   "source": [
    "# find the total occurence of a item in a list\n",
    "\n",
    "letters = ['a', 'a', 'b', 'c', 'd', 'e', 'e', 'e']\n",
    "\n",
    "print(letters.count('a'))\n",
    "print(letters.count('b'))\n",
    "print(letters.count('e'))\n",
    "print(letters.count('s'))"
   ]
  },
  {
   "cell_type": "markdown",
   "id": "386cd091",
   "metadata": {},
   "source": [
    "7. ### Sorting list"
   ]
  },
  {
   "cell_type": "code",
   "execution_count": 42,
   "id": "3dbe532d",
   "metadata": {},
   "outputs": [
    {
     "name": "stdout",
     "output_type": "stream",
     "text": [
      "[2, 3, 3, 3, 5, 5, 9, 12, 22, 43, 65]\n",
      "[65, 43, 22, 12, 9, 5, 5, 3, 3, 3, 2]\n"
     ]
    }
   ],
   "source": [
    "numbers = [3, 5, 2, 22, 3, 5, 12, 43, 65, 3, 9]\n",
    " \n",
    "numbers.sort()       # modifies the current list\n",
    "print(numbers) \n",
    "\n",
    "# for descending order\n",
    "\n",
    "numbers.sort(reverse= True)\n",
    "print(numbers)"
   ]
  },
  {
   "cell_type": "code",
   "execution_count": null,
   "id": "146ec771",
   "metadata": {},
   "outputs": [
    {
     "name": "stdout",
     "output_type": "stream",
     "text": [
      "[2, 3, 3, 3, 5, 5, 9, 12, 22, 43, 65]\n",
      "[65, 43, 22, 12, 9, 5, 5, 3, 3, 3, 2]\n"
     ]
    }
   ],
   "source": [
    "# If we dont like to modify the current list:\n",
    "\n",
    "numbers = [3, 5, 2, 22, 3, 5, 12, 43, 65, 3, 9]\n",
    "\n",
    "print(sorted(numbers))           \n",
    "print(sorted(numbers, reverse= True))\n",
    "\n",
    "# This sorted method will provide e new list without changing the existing list"
   ]
  },
  {
   "cell_type": "code",
   "execution_count": 53,
   "id": "d59f420a",
   "metadata": {},
   "outputs": [
    {
     "name": "stdout",
     "output_type": "stream",
     "text": [
      "[('product1', 10), ('product3', 23), ('product2', 353)]\n"
     ]
    }
   ],
   "source": [
    "# Create a list of tuples, where each tuple contains a product name and its price\n",
    "\n",
    "items = [\n",
    "    (\"product1\", 10),\n",
    "    (\"product2\", 353),\n",
    "    (\"product3\", 23)\n",
    "]\n",
    "\n",
    "# Define a function that takes a tuple and returns the second element (price)\n",
    "\n",
    "def sort_tuple(i):\n",
    "    return i[1]\n",
    "\n",
    "# Sort the 'items' list in-place using the 'sort_tuple' function as the key\n",
    "# This sorts the list based on the price (i.e., the second element of each tuple)\n",
    "\n",
    "items.sort(key = sort_tuple)\n",
    "print(items)\n"
   ]
  },
  {
   "cell_type": "markdown",
   "id": "ef79fd64",
   "metadata": {},
   "source": [
    "8. ### Lambda functions"
   ]
  },
  {
   "cell_type": "markdown",
   "id": "dd8caac1",
   "metadata": {},
   "source": [
    "A lambda function is a small, anonymous function defined using the lambda keyword. It's typically used when you need a simple function for a short period of time, especially as an argument to higher-order functions like sort(), map(), or filter()."
   ]
  },
  {
   "cell_type": "code",
   "execution_count": null,
   "id": "56f2bcb9",
   "metadata": {},
   "outputs": [],
   "source": [
    "# syntax:\n",
    "\n",
    "lambda arguments: expression\n"
   ]
  },
  {
   "cell_type": "code",
   "execution_count": 7,
   "id": "77548bbd",
   "metadata": {},
   "outputs": [
    {
     "name": "stdout",
     "output_type": "stream",
     "text": [
      "12\n",
      "12\n"
     ]
    }
   ],
   "source": [
    "def multiply_1(a, b):\n",
    "    return a * b\n",
    "\n",
    "\n",
    "print(multiply_1(3,4))\n",
    "\n",
    "# lambda that multiplies two numbers\n",
    "\n",
    "multiply = lambda a, b: a * b\n",
    "\n",
    "print(multiply(3, 4))  # Output: 12\n"
   ]
  },
  {
   "cell_type": "code",
   "execution_count": null,
   "id": "ab739506",
   "metadata": {},
   "outputs": [
    {
     "name": "stdout",
     "output_type": "stream",
     "text": [
      "6\n",
      "6\n"
     ]
    }
   ],
   "source": [
    "def addition_1(a,b):\n",
    "    return a+b\n",
    "\n",
    "print(addition_1(2,4))\n",
    "\n",
    "# lambda \n",
    "\n",
    "addition_2 = lambda a,b : a + b\n",
    "print(addition_2(2,4))\n"
   ]
  },
  {
   "cell_type": "code",
   "execution_count": null,
   "id": "3b098d80",
   "metadata": {},
   "outputs": [
    {
     "name": "stdout",
     "output_type": "stream",
     "text": [
      "[('product1', 10), ('product3', 23), ('product2', 353)]\n"
     ]
    }
   ],
   "source": [
    "items = [\n",
    "    (\"product1\", 10),\n",
    "    (\"product2\", 353),\n",
    "    (\"product3\", 23)\n",
    "]\n",
    "\n",
    "def second_value(i):\n",
    "    return i[1]\n",
    "\n",
    "items.sort(key = second_value)\n",
    "print(items)\n",
    " \n",
    " "
   ]
  },
  {
   "cell_type": "code",
   "execution_count": 13,
   "id": "6e977a76",
   "metadata": {},
   "outputs": [
    {
     "name": "stdout",
     "output_type": "stream",
     "text": [
      "[('product1', 10), ('product3', 23), ('product2', 353)]\n"
     ]
    }
   ],
   "source": [
    "# using lambda \n",
    "\n",
    "items = [\n",
    "    (\"product1\", 10),\n",
    "    (\"product2\", 353),\n",
    "    (\"product3\", 23)\n",
    "]\n",
    "\n",
    "items.sort(key = lambda i : i[1])\n",
    "print(items)\n"
   ]
  },
  {
   "cell_type": "markdown",
   "id": "180df286",
   "metadata": {},
   "source": [
    "9. ### Map function"
   ]
  },
  {
   "cell_type": "markdown",
   "id": "3d1e46e1",
   "metadata": {},
   "source": [
    "The map() function applies a given function to all items in an input list (or any other iterable) and returns a map object (an iterator). This is particularly useful for transforming data in a list comprehensively."
   ]
  },
  {
   "cell_type": "code",
   "execution_count": null,
   "id": "86077455",
   "metadata": {},
   "outputs": [],
   "source": [
    "# syntax:\n",
    "\n",
    "map(function, iterable)\n"
   ]
  },
  {
   "cell_type": "code",
   "execution_count": 8,
   "id": "bb8ffd13",
   "metadata": {},
   "outputs": [
    {
     "name": "stdout",
     "output_type": "stream",
     "text": [
      "[1, 4, 9, 9, 9, 16, 25, 36, 81, 100]\n"
     ]
    }
   ],
   "source": [
    "numbers = [1, 2, 3, 3, 3, 4, 5, 6, 9, 10]\n",
    "\n",
    "def square(x):         # funtion to get square of x\n",
    "    return x*x\n",
    "\n",
    "y = list(map(square, numbers))    # iteraing over x by map()\n",
    "print(y)\n",
    "    "
   ]
  },
  {
   "cell_type": "code",
   "execution_count": 10,
   "id": "4cc66463",
   "metadata": {},
   "outputs": [
    {
     "name": "stdout",
     "output_type": "stream",
     "text": [
      "[1, 4, 9, 9, 9, 16, 25, 36, 81, 100]\n"
     ]
    }
   ],
   "source": [
    "# more short using lamba and map:\n",
    "\n",
    "numbers = [1, 2, 3, 3, 3, 4, 5, 6, 9, 10]\n",
    "\n",
    "print(list(map(lambda x : x * x, numbers)))\n"
   ]
  },
  {
   "cell_type": "code",
   "execution_count": null,
   "id": "0a2d864f",
   "metadata": {},
   "outputs": [
    {
     "name": "stdout",
     "output_type": "stream",
     "text": [
      "[10, 353, 23]\n"
     ]
    }
   ],
   "source": [
    "items = [\n",
    "    (\"product1\", 10),\n",
    "    (\"product2\", 353),\n",
    "    (\"product3\", 23)\n",
    "]\n",
    "\n",
    "# from here get a list of the prices\n",
    "\n",
    "prices = list(map(lambda item : item[1], items))\n",
    "print(prices)"
   ]
  },
  {
   "cell_type": "markdown",
   "id": "63fc08e0",
   "metadata": {},
   "source": [
    "10. ### Filter function"
   ]
  },
  {
   "cell_type": "markdown",
   "id": "85b49f46",
   "metadata": {},
   "source": [
    "The filter() function constructs an iterator from elements of an iterable for which a function returns true. It is used to filter out items from a list (or any other iterable) based on a condition."
   ]
  },
  {
   "cell_type": "code",
   "execution_count": null,
   "id": "b74c5039",
   "metadata": {},
   "outputs": [],
   "source": [
    "# syntax\n",
    "\n",
    "filter(function, iterable)\n"
   ]
  },
  {
   "cell_type": "code",
   "execution_count": 23,
   "id": "d3326b68",
   "metadata": {},
   "outputs": [
    {
     "name": "stdout",
     "output_type": "stream",
     "text": [
      "[2, 4, 6, 10]\n"
     ]
    }
   ],
   "source": [
    "numbers = [1, 2, 3, 3, 3, 4, 5, 6, 9, 10]\n",
    "\n",
    "# list of event numbers\n",
    "\n",
    "#def even(x):\n",
    "    #return x % 2 == 0\n",
    "    \n",
    "even = list(filter(lambda x : x % 2 == 0, numbers))\n",
    "print(even)\n"
   ]
  },
  {
   "cell_type": "code",
   "execution_count": 6,
   "id": "ea06840c",
   "metadata": {},
   "outputs": [
    {
     "name": "stdout",
     "output_type": "stream",
     "text": [
      "[6, 7, 8, 9]\n"
     ]
    }
   ],
   "source": [
    "numbers = [1,2,3,4,5,6,7,8,9] \n",
    "\n",
    "num_greater_than_5 = list(filter(lambda y:y>5 , numbers))\n",
    "print(num_greater_than_5) \n"
   ]
  },
  {
   "cell_type": "code",
   "execution_count": 26,
   "id": "4e901da5",
   "metadata": {},
   "outputs": [
    {
     "name": "stdout",
     "output_type": "stream",
     "text": [
      "[353, 23]\n"
     ]
    }
   ],
   "source": [
    "items = [\n",
    "    (\"product1\", 10),\n",
    "    (\"product2\", 353),\n",
    "    (\"product3\", 23)\n",
    "]\n",
    "\n",
    "# prices over 20\n",
    "\n",
    "price_over_20 = []\n",
    "\n",
    "for i in items:\n",
    "    price = i[1]\n",
    "    if price > 20:\n",
    "        price_over_20.append(price)\n",
    "        \n",
    "print(price_over_20)"
   ]
  },
  {
   "cell_type": "code",
   "execution_count": null,
   "id": "465000fc",
   "metadata": {},
   "outputs": [
    {
     "name": "stdout",
     "output_type": "stream",
     "text": [
      "[('product2', 353), ('product3', 23)]\n"
     ]
    }
   ],
   "source": [
    "# Now using the filter function \n",
    "\n",
    "items = [\n",
    "    (\"product1\", 10),\n",
    "    (\"product2\", 353),\n",
    "    (\"product3\", 23)\n",
    "]\n",
    "\n",
    "price_over_20 = list(filter(lambda i:i[1] > 20, items))\n",
    "print(price_over_20)\n",
    "\n",
    "# if we dont use the list we get filter object"
   ]
  },
  {
   "cell_type": "code",
   "execution_count": 30,
   "id": "6db26a59",
   "metadata": {},
   "outputs": [
    {
     "data": {
      "text/plain": [
       "[{'name': 'Krish', 'age': 32}, {'name': 'Jack', 'age': 33}]"
      ]
     },
     "execution_count": 30,
     "metadata": {},
     "output_type": "execute_result"
    }
   ],
   "source": [
    "## Filter() to check if the age is greate than 25 in dictionaries\n",
    "\n",
    "people=[\n",
    "    {'name':'Krish','age':32},\n",
    "    {'name':'Jack','age':33},\n",
    "    {'name':'John','age':25}\n",
    "]\n",
    "\n",
    "def age_greater_than_25(person):\n",
    "    return person['age']>25\n",
    "\n",
    "list(filter(age_greater_than_25,people))"
   ]
  },
  {
   "cell_type": "code",
   "execution_count": 34,
   "id": "df16542b",
   "metadata": {},
   "outputs": [
    {
     "name": "stdout",
     "output_type": "stream",
     "text": [
      "[{'name': 'Krish', 'age': 32}, {'name': 'Jack', 'age': 33}]\n"
     ]
    }
   ],
   "source": [
    "\n",
    "x = list(filter(lambda i : i['age'] > 25, people))\n",
    "print(x)"
   ]
  },
  {
   "cell_type": "markdown",
   "id": "2d50ef2a",
   "metadata": {},
   "source": [
    "11. ### List comprehension\n"
   ]
  },
  {
   "cell_type": "code",
   "execution_count": null,
   "id": "664f857b",
   "metadata": {},
   "outputs": [],
   "source": [
    "# Syntax:\n",
    "\n",
    "[expression for item in iterable]\n",
    "\n",
    "# Equivalent:\n",
    "\n",
    "result = []\n",
    "for item in iterable:\n",
    "    result.append(expression)\n",
    "\n",
    "\n",
    "# with a condition:\n",
    "\n",
    "[expression for item in iterable if condition]\n",
    "\n"
   ]
  },
  {
   "cell_type": "code",
   "execution_count": 40,
   "id": "97e2967d",
   "metadata": {},
   "outputs": [
    {
     "name": "stdout",
     "output_type": "stream",
     "text": [
      "[0, 2, 4, 6, 8]\n"
     ]
    }
   ],
   "source": [
    "evens = [x for x in range(10) if x % 2 == 0]\n",
    "print(evens)"
   ]
  },
  {
   "cell_type": "code",
   "execution_count": 39,
   "id": "6e4a2a6f",
   "metadata": {},
   "outputs": [
    {
     "name": "stdout",
     "output_type": "stream",
     "text": [
      "[0, 1, 4, 9, 16, 25, 36, 49, 64, 81]\n"
     ]
    }
   ],
   "source": [
    "square = [x*x for x in range(10)]\n",
    "print(square)"
   ]
  },
  {
   "cell_type": "code",
   "execution_count": 41,
   "id": "ef450586",
   "metadata": {},
   "outputs": [
    {
     "name": "stdout",
     "output_type": "stream",
     "text": [
      "[5, 5, 6, 4, 13]\n"
     ]
    }
   ],
   "source": [
    "## List Comprehension with function calls\n",
    "words = [\"hello\", \"world\", \"python\", \"list\", \"comprehension\"]\n",
    "lengths = [len(i) for i in words]\n",
    "print(lengths)  # Output: [5, 5, 6, 4, 13]\n"
   ]
  },
  {
   "cell_type": "code",
   "execution_count": 56,
   "id": "74397194",
   "metadata": {},
   "outputs": [
    {
     "name": "stdout",
     "output_type": "stream",
     "text": [
      "[10, 353, 23]\n",
      "[10, 353, 23]\n",
      "[('product2', 353), ('product3', 23)]\n",
      "[('product2', 353), ('product3', 23)]\n"
     ]
    }
   ],
   "source": [
    "items = [\n",
    "    (\"product1\", 10),\n",
    "    (\"product2\", 353),\n",
    "    (\"product3\", 23)\n",
    "]\n",
    "\n",
    "prices_1 = list(map(lambda i: i[1], items))\n",
    "print(prices_1)\n",
    "prices_2 = [i[1] for i in items]\n",
    "print(prices_2)\n",
    "\n",
    "filtered_1 = list(filter(lambda i: i[1] > 10, items))\n",
    "print(filtered_1)\n",
    "filtered_2 = [i for i in items if i[1] > 10]\n",
    "print(filtered_2)\n"
   ]
  },
  {
   "cell_type": "markdown",
   "id": "287241dc",
   "metadata": {},
   "source": [
    "12. ### Zip function\n",
    "The zip() function in Python is used to combine multiple iterables (like lists, tuples, etc.) element-wise into tuples. It creates an iterator that aggregates elements from each iterable based on their position (index)."
   ]
  },
  {
   "cell_type": "code",
   "execution_count": null,
   "id": "ea895dac",
   "metadata": {},
   "outputs": [],
   "source": [
    "# syntax:\n",
    "\n",
    "zip(iterable1, iterable2, ...)\n"
   ]
  },
  {
   "cell_type": "code",
   "execution_count": 58,
   "id": "bbdcbf75",
   "metadata": {},
   "outputs": [
    {
     "name": "stdout",
     "output_type": "stream",
     "text": [
      "<zip object at 0x000002B7FF711F00>\n",
      "[(1, 11, 'Aaron'), (2, 22, 'Sarah'), (3, 33, 'Jon')]\n"
     ]
    }
   ],
   "source": [
    "list1 = [1,2,3]\n",
    "list2 = [11,22,33]\n",
    "string = [\"Aaron\",\"Sarah\",\"Jon\"]\n",
    "\n",
    "print(zip(list1, list2, string))\n",
    "print(list(zip(list1, list2, string)))\n"
   ]
  },
  {
   "cell_type": "markdown",
   "id": "5578493c",
   "metadata": {},
   "source": [
    "13. ### Stacks"
   ]
  },
  {
   "cell_type": "code",
   "execution_count": null,
   "id": "e1268059",
   "metadata": {},
   "outputs": [],
   "source": []
  },
  {
   "cell_type": "markdown",
   "id": "a6555dbe",
   "metadata": {},
   "source": [
    "14. ### Queues"
   ]
  },
  {
   "cell_type": "code",
   "execution_count": null,
   "id": "8cbc3f8d",
   "metadata": {},
   "outputs": [],
   "source": []
  },
  {
   "cell_type": "markdown",
   "id": "a91dd0a1",
   "metadata": {},
   "source": [
    "15. ### Tuple"
   ]
  },
  {
   "cell_type": "code",
   "execution_count": null,
   "id": "224362c2",
   "metadata": {},
   "outputs": [],
   "source": [
    "# Read only list\n",
    "# Cannnot mutate\n"
   ]
  },
  {
   "cell_type": "code",
   "execution_count": null,
   "id": "48629033",
   "metadata": {},
   "outputs": [
    {
     "name": "stdout",
     "output_type": "stream",
     "text": [
      "<class 'tuple'>\n",
      "<class 'tuple'>\n",
      "<class 'tuple'>\n"
     ]
    }
   ],
   "source": [
    "my_tuple = (1,2,3,4)\n",
    "print(type(my_tuple))\n",
    "\n",
    "point = 1,\n",
    "print(type(point))\n",
    "\n",
    "empty = ()\n",
    "print(type(empty))"
   ]
  },
  {
   "cell_type": "code",
   "execution_count": 1,
   "id": "44286fdc",
   "metadata": {},
   "outputs": [
    {
     "name": "stdout",
     "output_type": "stream",
     "text": [
      "<class 'list'>\n",
      "<class 'tuple'>\n"
     ]
    }
   ],
   "source": [
    "lst=list()\n",
    "print(type(lst))\n",
    "tpl=tuple()\n",
    "print(type(tpl))"
   ]
  },
  {
   "cell_type": "code",
   "execution_count": 2,
   "id": "6fec66ad",
   "metadata": {},
   "outputs": [
    {
     "name": "stdout",
     "output_type": "stream",
     "text": [
      "1\n",
      "2\n"
     ]
    }
   ],
   "source": [
    "\n",
    "\n",
    "numbers = [1,2,3,4,5,6,7,8,9] \n",
    "## Tuple Methods\n",
    "print(numbers.count(1))\n",
    "print(numbers.index(3))"
   ]
  },
  {
   "cell_type": "code",
   "execution_count": 3,
   "id": "a2c67cd9",
   "metadata": {},
   "outputs": [
    {
     "name": "stdout",
     "output_type": "stream",
     "text": [
      "(1, 'Hello', 3.14)\n"
     ]
    }
   ],
   "source": [
    "## Packing and Unpacking tuple\n",
    "## packing\n",
    "packed_tuple=1,\"Hello\",3.14\n",
    "print(packed_tuple)"
   ]
  },
  {
   "cell_type": "code",
   "execution_count": 4,
   "id": "b542ee1b",
   "metadata": {},
   "outputs": [
    {
     "name": "stdout",
     "output_type": "stream",
     "text": [
      "1\n",
      "Hello\n",
      "3.14\n"
     ]
    }
   ],
   "source": [
    "##unpacking a tuple\n",
    "a,b,c=packed_tuple\n",
    "\n",
    "print(a)\n",
    "print(b)\n",
    "print(c)"
   ]
  },
  {
   "cell_type": "code",
   "execution_count": 5,
   "id": "dfb0e603",
   "metadata": {},
   "outputs": [
    {
     "name": "stdout",
     "output_type": "stream",
     "text": [
      "<class 'tuple'>\n",
      "1\n",
      "[2, 3, 4, 5, 6, 7, 8]\n",
      "9\n"
     ]
    }
   ],
   "source": [
    "## Unpacking with *\n",
    "\n",
    "numbers=tuple([1,2,3,4,5,6,7,8,9])\n",
    "print(type(numbers))\n",
    "first,*middle,last=numbers\n",
    "print(first)\n",
    "print(middle)\n",
    "print(last)"
   ]
  },
  {
   "cell_type": "code",
   "execution_count": 6,
   "id": "56dff952",
   "metadata": {},
   "outputs": [
    {
     "name": "stdout",
     "output_type": "stream",
     "text": [
      "(1, 2, 3)\n",
      "c\n"
     ]
    }
   ],
   "source": [
    "nested_tuple = ((1, 2, 3), (\"a\", \"b\", \"c\"), (True, False))\n",
    "\n",
    "## access the elements inside a tuple\n",
    "print(nested_tuple[0])\n",
    "print(nested_tuple[1][2])"
   ]
  },
  {
   "cell_type": "code",
   "execution_count": 7,
   "id": "37bf6369",
   "metadata": {},
   "outputs": [
    {
     "name": "stdout",
     "output_type": "stream",
     "text": [
      "1 2 3 \n",
      "a b c \n",
      "True False \n"
     ]
    }
   ],
   "source": [
    "## iterating over nested tuples\n",
    "for sub_tuple in nested_tuple:\n",
    "    for item in sub_tuple:\n",
    "        print(item,end=\" \")\n",
    "    print()"
   ]
  },
  {
   "cell_type": "code",
   "execution_count": null,
   "id": "77c0fb4c",
   "metadata": {},
   "outputs": [
    {
     "name": "stdout",
     "output_type": "stream",
     "text": [
      "(1, 2, 3, 4)\n",
      "(1, 2, 3, 4, 1, 2, 3, 4)\n"
     ]
    }
   ],
   "source": [
    "tuple1 = (1,2)\n",
    "tuple2 = (3,4)\n",
    "\n",
    "tuple_3 = tuple1 + tuple2\n",
    "print(tuple_3)\n",
    "print(tuple_3 * 2)\n"
   ]
  },
  {
   "cell_type": "markdown",
   "id": "2d6596ed",
   "metadata": {},
   "source": [
    "16. ### Swapping variables"
   ]
  },
  {
   "cell_type": "code",
   "execution_count": 83,
   "id": "59bdb2f4",
   "metadata": {},
   "outputs": [
    {
     "name": "stdout",
     "output_type": "stream",
     "text": [
      "3\n",
      "10\n"
     ]
    }
   ],
   "source": [
    "x = 10\n",
    "y = 3\n",
    "\n",
    "x, y = y, x \n",
    "\n",
    "print(x)\n",
    "print(y)"
   ]
  },
  {
   "cell_type": "markdown",
   "id": "94089fa5",
   "metadata": {},
   "source": [
    "17. ### Arrays"
   ]
  },
  {
   "cell_type": "code",
   "execution_count": null,
   "id": "10df9879",
   "metadata": {},
   "outputs": [],
   "source": []
  },
  {
   "cell_type": "markdown",
   "id": "824fcf53",
   "metadata": {},
   "source": [
    "18. ### Sets"
   ]
  },
  {
   "cell_type": "markdown",
   "id": "42a9bce4",
   "metadata": {},
   "source": [
    "Sets are a built-in data type in Python used to store collections of unique items. They are unordered, meaning that the elements do not follow a specific order, and they do not allow duplicate elements. Sets are useful for membership tests, eliminating duplicate entries, and performing mathematical set operations like union, intersection, difference, and symmetric difference."
   ]
  },
  {
   "cell_type": "code",
   "execution_count": 8,
   "id": "4491e9cb",
   "metadata": {},
   "outputs": [
    {
     "name": "stdout",
     "output_type": "stream",
     "text": [
      "{1, 2, 3, 4, 5}\n"
     ]
    }
   ],
   "source": [
    "list1 = [1, 2, 3, 4, 5,2,4]\n",
    "\n",
    "set1 = set(list1)\n",
    "print(set1)"
   ]
  },
  {
   "cell_type": "code",
   "execution_count": 9,
   "id": "608f7512",
   "metadata": {},
   "outputs": [
    {
     "name": "stdout",
     "output_type": "stream",
     "text": [
      "{1, 2, 3, 4, 5}\n",
      "<class 'set'>\n"
     ]
    }
   ],
   "source": [
    "##create a set\n",
    "my_set={1,2,3,4,5}\n",
    "print(my_set)\n",
    "print(type(my_set))"
   ]
  },
  {
   "cell_type": "code",
   "execution_count": 10,
   "id": "92815fa6",
   "metadata": {},
   "outputs": [
    {
     "name": "stdout",
     "output_type": "stream",
     "text": [
      "<class 'set'>\n"
     ]
    }
   ],
   "source": [
    "my_empty_set=set()\n",
    "print(type(my_empty_set))"
   ]
  },
  {
   "cell_type": "code",
   "execution_count": 13,
   "id": "b065a35e",
   "metadata": {},
   "outputs": [
    {
     "name": "stdout",
     "output_type": "stream",
     "text": [
      "{1, 2, 3, 4, 5, 7}\n"
     ]
    }
   ],
   "source": [
    "## Basics Sets Operation\n",
    "## Adiing and Removing Elements\n",
    "\n",
    "my_set={1,2,3,4,5}\n",
    "\n",
    "my_set.add(7)\n",
    "print(my_set)"
   ]
  },
  {
   "cell_type": "code",
   "execution_count": 14,
   "id": "3e736b28",
   "metadata": {},
   "outputs": [
    {
     "name": "stdout",
     "output_type": "stream",
     "text": [
      "{1, 2, 4, 5, 7}\n"
     ]
    }
   ],
   "source": [
    "## Remove the elements from a set\n",
    "\n",
    "my_set.remove(3)\n",
    "print(my_set)"
   ]
  },
  {
   "cell_type": "code",
   "execution_count": null,
   "id": "b219f857",
   "metadata": {},
   "outputs": [],
   "source": [
    "my_set.remove(10)\n",
    "\n",
    "# using remove method,\n",
    "# This will show an eroor as it doesnt exist in the set"
   ]
  },
  {
   "cell_type": "code",
   "execution_count": 15,
   "id": "8675c815",
   "metadata": {},
   "outputs": [
    {
     "name": "stdout",
     "output_type": "stream",
     "text": [
      "{1, 2, 4, 5, 7}\n"
     ]
    }
   ],
   "source": [
    "my_set.discard(11)\n",
    "print(my_set)"
   ]
  },
  {
   "cell_type": "code",
   "execution_count": 27,
   "id": "6764128f",
   "metadata": {},
   "outputs": [
    {
     "name": "stdout",
     "output_type": "stream",
     "text": [
      "1\n",
      "{2, 3, 4, 5}\n"
     ]
    }
   ],
   "source": [
    "my_set={1,2,3,4,5}\n",
    "print(my_set.pop())\n",
    "print(my_set)"
   ]
  },
  {
   "cell_type": "code",
   "execution_count": 22,
   "id": "ee5b6609",
   "metadata": {},
   "outputs": [
    {
     "name": "stdout",
     "output_type": "stream",
     "text": [
      "1\n",
      "{2, 3, 4, 5}\n"
     ]
    }
   ],
   "source": [
    "## pop method\n",
    "my_set={1,2,3,4,5}\n",
    "removed_element=my_set.pop()\n",
    "print(removed_element)\n",
    "print(my_set)"
   ]
  },
  {
   "cell_type": "code",
   "execution_count": 28,
   "id": "4b0b62ad",
   "metadata": {},
   "outputs": [
    {
     "name": "stdout",
     "output_type": "stream",
     "text": [
      "set()\n"
     ]
    }
   ],
   "source": [
    "## clear all the elements\n",
    "my_set.clear()\n",
    "print(my_set)"
   ]
  },
  {
   "cell_type": "code",
   "execution_count": 29,
   "id": "87099688",
   "metadata": {},
   "outputs": [
    {
     "name": "stdout",
     "output_type": "stream",
     "text": [
      "True\n",
      "False\n"
     ]
    }
   ],
   "source": [
    "## Set Memebership test\n",
    "my_set={1,2,3,4,5}\n",
    "print(3 in my_set)\n",
    "print(10 in my_set)"
   ]
  },
  {
   "cell_type": "code",
   "execution_count": null,
   "id": "2fe31f3f",
   "metadata": {},
   "outputs": [
    {
     "name": "stdout",
     "output_type": "stream",
     "text": [
      "{1, 2, 3, 4, 5, 6, 7, 8, 9}\n",
      "{4, 5, 6}\n",
      "{4, 5, 6}\n"
     ]
    }
   ],
   "source": [
    "## MAthematical Operation\n",
    "set1={1,2,3,4,5,6}\n",
    "set2={4,5,6,7,8,9}\n",
    "\n",
    "### Union \n",
    "union_set=set1.union(set2)\n",
    "print(union_set)\n",
    "\n",
    "## Intersection\n",
    "intersection_set=set1.intersection(set2)\n",
    "print(intersection_set)\n",
    "\n",
    "set1.intersection_update(set2)\n",
    "print(set1)"
   ]
  },
  {
   "cell_type": "markdown",
   "id": "c13a3dc7",
   "metadata": {},
   "source": [
    "19. ### Dictionaries"
   ]
  },
  {
   "cell_type": "markdown",
   "id": "c93b1e8f",
   "metadata": {},
   "source": [
    "\n",
    "Dictionaries are unordered collections of items. They store data in key-value pairs.\n",
    "Keys must be unique and immutable (e.g., strings, numbers, or tuples), while values can be of any type."
   ]
  },
  {
   "cell_type": "code",
   "execution_count": 36,
   "id": "b1e5c08f",
   "metadata": {},
   "outputs": [
    {
     "name": "stdout",
     "output_type": "stream",
     "text": [
      "<class 'dict'>\n"
     ]
    }
   ],
   "source": [
    "# creating a dictionary \n",
    "\n",
    "empty_dictionary = {}\n",
    "print(type(empty_dictionary))"
   ]
  },
  {
   "cell_type": "code",
   "execution_count": 37,
   "id": "3c6518e4",
   "metadata": {},
   "outputs": [
    {
     "name": "stdout",
     "output_type": "stream",
     "text": [
      "{'name': 'Krish', 'age': 32, 'grade': 24}\n",
      "<class 'dict'>\n"
     ]
    }
   ],
   "source": [
    "# dictionary with key value pair\n",
    "\n",
    "student={\"name\":\"Krish\",\"age\":32,\"grade\":24}\n",
    "print(student)\n",
    "print(type(student))"
   ]
  },
  {
   "cell_type": "code",
   "execution_count": 38,
   "id": "8c9c59e9",
   "metadata": {},
   "outputs": [
    {
     "name": "stdout",
     "output_type": "stream",
     "text": [
      "{'name': 'Krish', 'age': 32, 'grade': 24}\n",
      "<class 'dict'>\n"
     ]
    }
   ],
   "source": [
    "# using dict() function\n",
    "\n",
    "student = dict(name = \"Krish\", age = 32, grade = 24)\n",
    "print(student)\n",
    "print(type(student))"
   ]
  },
  {
   "cell_type": "code",
   "execution_count": null,
   "id": "6bf1908e",
   "metadata": {},
   "outputs": [
    {
     "name": "stdout",
     "output_type": "stream",
     "text": [
      "{'name': 'Krish', 'age': 32, 'grade': 24}\n",
      "Krish\n",
      "32\n",
      "24\n",
      "Rajesh\n",
      "Male\n",
      "{'name': 'Rajesh', 'age': 32, 'grade': 24, 'gender': 'Male'}\n"
     ]
    }
   ],
   "source": [
    "student = dict(name = \"Krish\", age = 32, grade = 24)\n",
    "\n",
    "print(student)\n",
    "\n",
    "#Accessing dictionary\n",
    "\n",
    "print(student[\"name\"])    \n",
    "print(student[\"age\"])\n",
    "print(student[\"grade\"])"
   ]
  },
  {
   "cell_type": "code",
   "execution_count": 48,
   "id": "133e900a",
   "metadata": {},
   "outputs": [
    {
     "name": "stdout",
     "output_type": "stream",
     "text": [
      "Rajesh\n",
      "{'name': 'Rajesh', 'age': 32, 'grade': 24, 'gender': 'Male'}\n"
     ]
    }
   ],
   "source": [
    "# Changing key value pair\n",
    "\n",
    "student[\"name\"] = \"Rajesh\"\n",
    "print(student[\"name\"])\n",
    "print(student)\n"
   ]
  },
  {
   "cell_type": "code",
   "execution_count": null,
   "id": "7a45404e",
   "metadata": {},
   "outputs": [
    {
     "name": "stdout",
     "output_type": "stream",
     "text": [
      "Male\n",
      "{'name': 'Rajesh', 'age': 32, 'grade': 24, 'gender': 'Male'}\n"
     ]
    }
   ],
   "source": [
    "\n",
    "# Assigning new key value pair\n",
    "\n",
    "student[\"gender\"] = \"Male\"\n",
    "print(student[\"gender\"])\n",
    "print(student)"
   ]
  },
  {
   "cell_type": "code",
   "execution_count": 50,
   "id": "0e8074b3",
   "metadata": {},
   "outputs": [
    {
     "ename": "KeyError",
     "evalue": "'address'",
     "output_type": "error",
     "traceback": [
      "\u001b[31m---------------------------------------------------------------------------\u001b[39m",
      "\u001b[31mKeyError\u001b[39m                                  Traceback (most recent call last)",
      "\u001b[36mCell\u001b[39m\u001b[36m \u001b[39m\u001b[32mIn[50]\u001b[39m\u001b[32m, line 6\u001b[39m\n\u001b[32m      1\u001b[39m \u001b[38;5;66;03m# if you try to search a key which is not in the dictionary \u001b[39;00m\n\u001b[32m      2\u001b[39m \u001b[38;5;66;03m# we will get an error\u001b[39;00m\n\u001b[32m      4\u001b[39m student={\u001b[33m\"\u001b[39m\u001b[33mname\u001b[39m\u001b[33m\"\u001b[39m:\u001b[33m\"\u001b[39m\u001b[33mKrish\u001b[39m\u001b[33m\"\u001b[39m,\u001b[33m\"\u001b[39m\u001b[33mage\u001b[39m\u001b[33m\"\u001b[39m:\u001b[32m32\u001b[39m,\u001b[33m\"\u001b[39m\u001b[33mgrade\u001b[39m\u001b[33m\"\u001b[39m:\u001b[32m24\u001b[39m}\n\u001b[32m----> \u001b[39m\u001b[32m6\u001b[39m \u001b[38;5;28mprint\u001b[39m(\u001b[43mstudent\u001b[49m\u001b[43m[\u001b[49m\u001b[33;43m\"\u001b[39;49m\u001b[33;43maddress\u001b[39;49m\u001b[33;43m\"\u001b[39;49m\u001b[43m]\u001b[49m)\n",
      "\u001b[31mKeyError\u001b[39m: 'address'"
     ]
    }
   ],
   "source": [
    "# if you try to search a key which is not in the dictionary \n",
    "# we will get an error\n",
    "\n",
    "student={\"name\":\"Krish\",\"age\":32,\"grade\":24}\n",
    "\n",
    "print(student[\"address\"])"
   ]
  },
  {
   "cell_type": "code",
   "execution_count": null,
   "id": "47cdba22",
   "metadata": {},
   "outputs": [
    {
     "name": "stdout",
     "output_type": "stream",
     "text": [
      "None\n"
     ]
    }
   ],
   "source": [
    "# To get rid of this error we can use get() method\n",
    "# if it doesnt exist shows none\n",
    "\n",
    "student={\"name\":\"Krish\",\"age\":32,\"grade\":24}\n",
    "\n",
    "print(student.get(\"address\"))"
   ]
  },
  {
   "cell_type": "code",
   "execution_count": null,
   "id": "cb19321a",
   "metadata": {},
   "outputs": [
    {
     "name": "stdout",
     "output_type": "stream",
     "text": [
      "not available\n"
     ]
    }
   ],
   "source": [
    "# we can also pass a default value to show\n",
    "\n",
    "print(student.get(\"address\", \"not available\"))"
   ]
  },
  {
   "cell_type": "code",
   "execution_count": 56,
   "id": "d9e8c1f5",
   "metadata": {},
   "outputs": [
    {
     "name": "stdout",
     "output_type": "stream",
     "text": [
      "{'name': 'Krish', 'age': 32}\n"
     ]
    }
   ],
   "source": [
    "# delete a key value pair\n",
    "student={\"name\":\"Krish\",\"age\":32,\"grade\":24}\n",
    "del student[\"grade\"]\n",
    "\n",
    "print(student)"
   ]
  },
  {
   "cell_type": "code",
   "execution_count": 58,
   "id": "e7a9abb0",
   "metadata": {},
   "outputs": [
    {
     "name": "stdout",
     "output_type": "stream",
     "text": [
      "dict_keys(['name', 'age'])\n",
      "dict_values(['Krish', 32])\n",
      "dict_items([('name', 'Krish'), ('age', 32)])\n"
     ]
    }
   ],
   "source": [
    "## Dictionary methods\n",
    "\n",
    "keys=student.keys()       ##get all the keys\n",
    "print(keys)\n",
    "values=student.values()    ##get all values\n",
    "print(values)\n",
    "\n",
    "items=student.items()    ##get all key value pairs\n",
    "print(items)"
   ]
  },
  {
   "cell_type": "code",
   "execution_count": 59,
   "id": "7efa6277",
   "metadata": {},
   "outputs": [
    {
     "name": "stdout",
     "output_type": "stream",
     "text": [
      "{'name': 'Krish', 'age': 32}\n",
      "{'name': 'Krish', 'age': 32}\n"
     ]
    }
   ],
   "source": [
    "## shallow copy\n",
    "student_copy=student\n",
    "print(student)\n",
    "print(student_copy)"
   ]
  },
  {
   "cell_type": "code",
   "execution_count": null,
   "id": "b6df1d1d",
   "metadata": {},
   "outputs": [
    {
     "name": "stdout",
     "output_type": "stream",
     "text": [
      "{'name': 'Krish2', 'age': 32, 'grade': 24}\n",
      "{'name': 'Krish2', 'age': 32, 'grade': 24}\n"
     ]
    }
   ],
   "source": [
    "student={\"name\":\"Krish\",\"age\":32,\"grade\":24}\n",
    "\n",
    "student[\"name\"]=\"Krish2\"\n",
    "\n",
    "student_copy=student\n",
    "\n",
    "print(student_copy)\n",
    "print(student)\n"
   ]
  },
  {
   "cell_type": "code",
   "execution_count": null,
   "id": "5ecac96e",
   "metadata": {},
   "outputs": [],
   "source": [
    "## Hard copy\n",
    "\n",
    "student = {'name': 'Krish2', 'age': 33, 'address': 'India'}\n",
    "\n",
    "student_copy1=student.copy() \n",
    "\n",
    "student[\"name\"]=\"Krish1\"\n",
    "\n",
    "print(student_copy1)\n",
    "print(student)"
   ]
  },
  {
   "cell_type": "code",
   "execution_count": null,
   "id": "b689b798",
   "metadata": {},
   "outputs": [
    {
     "name": "stdout",
     "output_type": "stream",
     "text": [
      "name\n",
      "age\n",
      "address\n"
     ]
    }
   ],
   "source": [
    "student = {'name': 'Krish2', 'age': 33, 'address': 'India'}\n",
    "\n",
    "for i in student:\n",
    "    print(i)\n",
    "    \n",
    "# It provides the key of the dictionary\n"
   ]
  },
  {
   "cell_type": "code",
   "execution_count": 68,
   "id": "2c69cbff",
   "metadata": {},
   "outputs": [
    {
     "name": "stdout",
     "output_type": "stream",
     "text": [
      "name Krish2\n",
      "age 33\n",
      "address India\n"
     ]
    }
   ],
   "source": [
    "# to get the pair\n",
    "\n",
    "for key in student:\n",
    "    print(key, student[key])"
   ]
  },
  {
   "cell_type": "code",
   "execution_count": 73,
   "id": "0b8427f2",
   "metadata": {},
   "outputs": [
    {
     "name": "stdout",
     "output_type": "stream",
     "text": [
      "('name', 'Krish2')\n",
      "('age', 33)\n",
      "('address', 'India')\n"
     ]
    }
   ],
   "source": [
    "# another way\n",
    "\n",
    "student = {'name': 'Krish2', 'age': 33, 'address': 'India'}\n",
    "\n",
    "for x in student.items():\n",
    "    print(x)"
   ]
  },
  {
   "cell_type": "code",
   "execution_count": 74,
   "id": "5dfe1321",
   "metadata": {},
   "outputs": [
    {
     "name": "stdout",
     "output_type": "stream",
     "text": [
      "name Krish2\n",
      "age 33\n",
      "address India\n"
     ]
    }
   ],
   "source": [
    "for key, value in student.items():\n",
    "    print(key, value)"
   ]
  },
  {
   "cell_type": "code",
   "execution_count": 75,
   "id": "bb59e70f",
   "metadata": {},
   "outputs": [
    {
     "name": "stdout",
     "output_type": "stream",
     "text": [
      "32\n"
     ]
    }
   ],
   "source": [
    "## Nested Disctionaries\n",
    "\n",
    "students={\n",
    "    \"student1\":{\"name\":\"Krish\",\"age\":32},\n",
    "    \"student2\":{\"name\":\"Peter\",\"age\":35}\n",
    "}\n",
    "\n",
    "print(students[\"student1\"][\"age\"])"
   ]
  },
  {
   "cell_type": "code",
   "execution_count": 76,
   "id": "4e93b9bd",
   "metadata": {},
   "outputs": [
    {
     "name": "stdout",
     "output_type": "stream",
     "text": [
      "Peter\n",
      "35\n"
     ]
    }
   ],
   "source": [
    "## Access nested dictionaries elementss\n",
    "\n",
    "print(students[\"student2\"][\"name\"])\n",
    "print(students[\"student2\"][\"age\"])"
   ]
  },
  {
   "cell_type": "code",
   "execution_count": 77,
   "id": "4edf0d21",
   "metadata": {},
   "outputs": [
    {
     "data": {
      "text/plain": [
       "dict_items([('name', 'Krish'), ('age', 32)])"
      ]
     },
     "execution_count": 77,
     "metadata": {},
     "output_type": "execute_result"
    }
   ],
   "source": [
    "students['student1'].items()"
   ]
  },
  {
   "cell_type": "code",
   "execution_count": null,
   "id": "3ee24867",
   "metadata": {},
   "outputs": [],
   "source": []
  },
  {
   "cell_type": "markdown",
   "id": "7c8e9010",
   "metadata": {},
   "source": [
    "20. ### Dictionary Comprehension"
   ]
  },
  {
   "cell_type": "code",
   "execution_count": null,
   "id": "a8f0edd6",
   "metadata": {},
   "outputs": [
    {
     "name": "stdout",
     "output_type": "stream",
     "text": [
      "[0, 2, 4, 6, 8]\n"
     ]
    }
   ],
   "source": [
    "# Lets look at an example\n",
    "\n",
    "values = []\n",
    "for x in range(5):\n",
    "    x = x * 2\n",
    "    values.append(x)\n",
    "\n",
    "print(values)"
   ]
  },
  {
   "cell_type": "code",
   "execution_count": null,
   "id": "7102b197",
   "metadata": {},
   "outputs": [
    {
     "name": "stdout",
     "output_type": "stream",
     "text": [
      "[0, 2, 4, 6, 8]\n"
     ]
    }
   ],
   "source": [
    "# Now using list comprehension: \n",
    "\n",
    "syntax: [ expression for item in iterable]"
   ]
  },
  {
   "cell_type": "code",
   "execution_count": 5,
   "id": "094ecccc",
   "metadata": {},
   "outputs": [
    {
     "name": "stdout",
     "output_type": "stream",
     "text": [
      "[0, 2, 4, 6, 8]\n"
     ]
    }
   ],
   "source": [
    "values = [x * 2 for x in range(5)]\n",
    "print(values)"
   ]
  },
  {
   "cell_type": "code",
   "execution_count": 7,
   "id": "199ef7cf",
   "metadata": {},
   "outputs": [
    {
     "name": "stdout",
     "output_type": "stream",
     "text": [
      "{0: 0, 1: 2, 2: 4, 3: 6, 4: 8}\n"
     ]
    }
   ],
   "source": [
    "# similar approach can be made for dictionaries\n",
    "\n",
    "dict_1 = {x: x * 2 for x in range(5)}\n",
    "print(dict_1)"
   ]
  },
  {
   "cell_type": "code",
   "execution_count": null,
   "id": "607e0059",
   "metadata": {},
   "outputs": [
    {
     "name": "stdout",
     "output_type": "stream",
     "text": [
      "{0: 0, 2: 4, 4: 8, 6: 12, 8: 16}\n"
     ]
    }
   ],
   "source": [
    "# conditional\n",
    "\n",
    "even_dict = {x : x * 2 for x in range(10) if x % 2 == 0}\n",
    "print(even_dict)"
   ]
  },
  {
   "cell_type": "code",
   "execution_count": 30,
   "id": "1c6b7d99",
   "metadata": {},
   "outputs": [
    {
     "name": "stdout",
     "output_type": "stream",
     "text": [
      "{1: 1, 2: 2, 3: 4, 4: 1}\n"
     ]
    }
   ],
   "source": [
    "## Practical Examples\n",
    "\n",
    "## USe a dictionary to count the frequency of elements in list\n",
    "\n",
    "numbers=[1,2,2,3,3,3,3,4]\n",
    "frequency={}\n",
    "\n",
    "for num in numbers:\n",
    "    if num in frequency:\n",
    "        frequency[num]+=1\n",
    "    else:\n",
    "        frequency[num]=1\n",
    "print(frequency)"
   ]
  },
  {
   "cell_type": "code",
   "execution_count": 31,
   "id": "c5bb32af",
   "metadata": {},
   "outputs": [
    {
     "name": "stdout",
     "output_type": "stream",
     "text": [
      "{'a': 1, 'b': 3, 'c': 4}\n"
     ]
    }
   ],
   "source": [
    "## Merge 2 dictionaries into one\n",
    "\n",
    "dict1={\"a\":1,\"b\":2}\n",
    "dict2={\"b\":3,\"c\":4}\n",
    "merged_dict={**dict1,**dict2}\n",
    "print(merged_dict)"
   ]
  },
  {
   "cell_type": "markdown",
   "id": "b9200335",
   "metadata": {},
   "source": [
    "21. ### Generator expressions"
   ]
  },
  {
   "cell_type": "markdown",
   "id": "bc35d08e",
   "metadata": {},
   "source": [
    "A generator expression is a concise way to create generators in Python — objects that generate values one at a time, on the fly, and don’t store the entire sequence in memory.\n",
    "\n",
    "They look similar to list comprehensions, but use parentheses () instead of square brackets [].\n",
    "This is memory efficient. Python computes and sums the numbers without ever storing all of them at once."
   ]
  },
  {
   "cell_type": "code",
   "execution_count": null,
   "id": "5497664c",
   "metadata": {},
   "outputs": [],
   "source": [
    "(expression for item in iterable)\n"
   ]
  },
  {
   "cell_type": "code",
   "execution_count": 39,
   "id": "47a0d25b",
   "metadata": {},
   "outputs": [
    {
     "name": "stdout",
     "output_type": "stream",
     "text": [
      "2450\n"
     ]
    }
   ],
   "source": [
    "even_sum = sum(x for x in range(100) if x % 2 == 0)\n",
    "print(even_sum)"
   ]
  },
  {
   "cell_type": "code",
   "execution_count": null,
   "id": "3acc77a8",
   "metadata": {},
   "outputs": [
    {
     "name": "stdout",
     "output_type": "stream",
     "text": [
      "Generator size:  200\n",
      "List size:  8856\n"
     ]
    }
   ],
   "source": [
    "# lets see the size of list and generator object\n",
    "\n",
    "from sys import getsizeof \n",
    "\n",
    "values_gen = ( x * 2 for x in range (1000))\n",
    "values_list = [ x * 2 for x in range (1000)]\n",
    "\n",
    "print(\"Generator size: \", getsizeof(values_gen))\n",
    "print(\"List size: \", getsizeof(values_list))\n",
    "\n",
    "# for the same thing list takes much more memory than generator\n"
   ]
  },
  {
   "cell_type": "markdown",
   "id": "c3b51e2e",
   "metadata": {},
   "source": [
    "22. ### Unpacking Operators"
   ]
  },
  {
   "cell_type": "code",
   "execution_count": 43,
   "id": "bbb2b258",
   "metadata": {},
   "outputs": [
    {
     "name": "stdout",
     "output_type": "stream",
     "text": [
      "[1, 2, 3]\n",
      "1 2 3\n"
     ]
    }
   ],
   "source": [
    "numbers = [1,2,3]\n",
    "print(numbers)\n",
    "print(1,2,3)"
   ]
  },
  {
   "cell_type": "code",
   "execution_count": 42,
   "id": "f61c94d5",
   "metadata": {},
   "outputs": [
    {
     "name": "stdout",
     "output_type": "stream",
     "text": [
      "1 2 3\n"
     ]
    }
   ],
   "source": [
    "# lets unpack this list\n",
    "\n",
    "print(*numbers)"
   ]
  },
  {
   "cell_type": "code",
   "execution_count": 44,
   "id": "1574e1ad",
   "metadata": {},
   "outputs": [
    {
     "name": "stdout",
     "output_type": "stream",
     "text": [
      "[0, 1, 2, 3, 4]\n"
     ]
    }
   ],
   "source": [
    "values = list(range(5))\n",
    "print(values)"
   ]
  },
  {
   "cell_type": "code",
   "execution_count": 45,
   "id": "4b87285d",
   "metadata": {},
   "outputs": [
    {
     "name": "stdout",
     "output_type": "stream",
     "text": [
      "[0, 1, 2, 3, 4]\n"
     ]
    }
   ],
   "source": [
    "# same thing by unpacking operator:\n",
    "\n",
    "values = [*range(5)]\n",
    "print(values)"
   ]
  },
  {
   "cell_type": "code",
   "execution_count": 48,
   "id": "5ae77d28",
   "metadata": {},
   "outputs": [
    {
     "name": "stdout",
     "output_type": "stream",
     "text": [
      "[1, 2, 3, 5, 6, 7, 'H', 'e', 'l', 'l', 'o']\n"
     ]
    }
   ],
   "source": [
    "# combining list\n",
    "\n",
    "first = [1,2,3]\n",
    "second = [5,6,7]\n",
    "\n",
    "combined = [*first, *second, *\"Hello\"]\n",
    "print(combined)"
   ]
  },
  {
   "cell_type": "code",
   "execution_count": 51,
   "id": "68aacd10",
   "metadata": {},
   "outputs": [
    {
     "name": "stdout",
     "output_type": "stream",
     "text": [
      "{'Moto': 20, 'patlu': 30, 'jhatka': 24, 'ghasita': 35}\n"
     ]
    }
   ],
   "source": [
    "# for dictonary unpacking:\n",
    "\n",
    "first = {\"Moto\" : 20, \"patlu\" : 30}\n",
    "second = {\"jhatka\" : 24, \"ghasita\" : 35}\n",
    "\n",
    "combined_dictionary = {**first, **second}\n",
    "print(combined_dictionary)"
   ]
  },
  {
   "cell_type": "markdown",
   "id": "9a841e80",
   "metadata": {},
   "source": [
    "23. ### Excercise\n"
   ]
  },
  {
   "cell_type": "code",
   "execution_count": null,
   "id": "d422b10a",
   "metadata": {},
   "outputs": [],
   "source": [
    "sentence = \"This is a common interview question\"\n",
    "\n",
    "# find the most repeated character"
   ]
  },
  {
   "cell_type": "code",
   "execution_count": 56,
   "id": "77ccc6a1",
   "metadata": {},
   "outputs": [
    {
     "name": "stdout",
     "output_type": "stream",
     "text": [
      "{'T': 1, 'h': 1, 'i': 5, 's': 3, ' ': 5, 'a': 1, 'c': 1, 'o': 3, 'm': 2, 'n': 3, 't': 2, 'e': 3, 'r': 1, 'v': 1, 'w': 1, 'q': 1, 'u': 1}\n"
     ]
    }
   ],
   "source": [
    "sentence = \"This is a common interview question\"  \n",
    "\n",
    "char_frequency = {}                         # an empty dictionary to store character counts\n",
    "\n",
    "for item in sentence:                      # Loop through each character in the sentence\n",
    "    if item in char_frequency:              # If the character is already in the dictionary\n",
    "        char_frequency[item] += 1             # Increment its count by 1\n",
    "    else:                                   # If the character is not in the dictionary yet\n",
    "        char_frequency[item] = 1           # Add it to the dictionary with an initial count of 1\n",
    "\n",
    "print(char_frequency)                     # Print the dictionary containing character frequencies\n"
   ]
  },
  {
   "cell_type": "code",
   "execution_count": null,
   "id": "5aa2d65a",
   "metadata": {},
   "outputs": [
    {
     "name": "stdout",
     "output_type": "stream",
     "text": [
      "{' ': 5,\n",
      " 'T': 1,\n",
      " 'a': 1,\n",
      " 'c': 1,\n",
      " 'e': 3,\n",
      " 'h': 1,\n",
      " 'i': 5,\n",
      " 'm': 2,\n",
      " 'n': 3,\n",
      " 'o': 3,\n",
      " 'q': 1,\n",
      " 'r': 1,\n",
      " 's': 3,\n",
      " 't': 2,\n",
      " 'u': 1,\n",
      " 'v': 1,\n",
      " 'w': 1}\n"
     ]
    }
   ],
   "source": [
    "# more readable approach\n",
    "\n",
    "from pprint import pprint\n",
    "pprint(char_frequency, width = 2)\n",
    "# Pretty-print dictionary with a max line width of 2 characters (forces very narrow formatting)"
   ]
  },
  {
   "cell_type": "code",
   "execution_count": null,
   "id": "e42480d1",
   "metadata": {},
   "outputs": [
    {
     "name": "stdout",
     "output_type": "stream",
     "text": [
      "('i', 5)\n"
     ]
    }
   ],
   "source": [
    "# next part \n",
    "# most repeated character\n",
    "\n",
    "char_frequency_sorted = sorted(\n",
    "    char_frequency.items(), key = \n",
    "    lambda kv: kv[1],\n",
    "    reverse= True\n",
    ")       \n",
    "\n",
    "print(char_frequency_sorted[0])"
   ]
  }
 ],
 "metadata": {
  "kernelspec": {
   "display_name": ".venv",
   "language": "python",
   "name": "python3"
  },
  "language_info": {
   "codemirror_mode": {
    "name": "ipython",
    "version": 3
   },
   "file_extension": ".py",
   "mimetype": "text/x-python",
   "name": "python",
   "nbconvert_exporter": "python",
   "pygments_lexer": "ipython3",
   "version": "3.13.7"
  }
 },
 "nbformat": 4,
 "nbformat_minor": 5
}
