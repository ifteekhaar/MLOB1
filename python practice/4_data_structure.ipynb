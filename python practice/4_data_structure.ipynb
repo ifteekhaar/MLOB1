{
 "cells": [
  {
   "cell_type": "markdown",
   "id": "406f3b95",
   "metadata": {},
   "source": [
    "# Data Structure"
   ]
  },
  {
   "cell_type": "markdown",
   "id": "c0e036e2",
   "metadata": {},
   "source": [
    "1. ### List"
   ]
  },
  {
   "cell_type": "code",
   "execution_count": 4,
   "id": "32e1529e",
   "metadata": {},
   "outputs": [
    {
     "name": "stdout",
     "output_type": "stream",
     "text": [
      "[0, 0, 0, 0, 0]\n",
      "['a', 'b', 'c', 0, 0, 0, 0, 0]\n"
     ]
    }
   ],
   "source": [
    "letters = ['a', 'b', 'c']       # list\n",
    "matrix = [[0, 1], [2, 3]]       # list of lists or a 2D matrix\n",
    "matrix_2 = [\n",
    "    [0, 1],\n",
    "    [2, 3],\n",
    "    [3, 4]\n",
    "]\n",
    "zeros = [0] * 5                  # list of 5 zeros\n",
    "combined = letters + zeros       # concatenation\n",
    "\n",
    "print(zeros)\n",
    "print(combined)"
   ]
  },
  {
   "cell_type": "code",
   "execution_count": 6,
   "id": "61f752bc",
   "metadata": {},
   "outputs": [
    {
     "name": "stdout",
     "output_type": "stream",
     "text": [
      "[0, 1, 2, 3, 4, 5, 6, 7, 8, 9, 10, 11, 12, 13, 14, 15, 16, 17, 18, 19]\n",
      "['H', 'e', 'l', 'l', 'o', ' ', 'W', 'o', 'r', 'l', 'd']\n"
     ]
    }
   ],
   "source": [
    "# create a list using the list and range functions\n",
    "\n",
    "numbers = list(range(20))        # list of numbers from 0 to 19\n",
    "print(numbers)\n",
    "\n",
    "string = \"Hello World\"\n",
    "chars = list(string)             # list of characters in the string \n",
    "print(chars)"
   ]
  },
  {
   "cell_type": "markdown",
   "id": "4e9ab1f1",
   "metadata": {},
   "source": [
    "2. ### Accessing items "
   ]
  },
  {
   "cell_type": "code",
   "execution_count": null,
   "id": "afcb3c85",
   "metadata": {},
   "outputs": [
    {
     "name": "stdout",
     "output_type": "stream",
     "text": [
      "11\n",
      "H\n",
      "d\n",
      "['H', 'e', 'l', 'l', 'o']\n"
     ]
    }
   ],
   "source": [
    "string = \"Hello World\"\n",
    "chars = list(string)             # list of characters in the string\n",
    "\n",
    "print(len(chars))                # length of the list\n",
    "print(chars[0])                  # first element\n",
    "print(chars[-1])                 # last element\n",
    "print(chars[0:5])                # slicing\n"
   ]
  },
  {
   "cell_type": "code",
   "execution_count": 15,
   "id": "3284e9e0",
   "metadata": {},
   "outputs": [
    {
     "name": "stdout",
     "output_type": "stream",
     "text": [
      "['A', 'b', 'c']\n",
      "['A', 'c']\n"
     ]
    }
   ],
   "source": [
    "letters = [\"a\", \"b\", \"c\", \"d\"]  \n",
    "\n",
    "letters[0] = \"A\"\n",
    "print(letters[0:3])\n",
    "print(letters[::2])  # skips the second iteration"
   ]
  },
  {
   "cell_type": "code",
   "execution_count": 1,
   "id": "79c5296c",
   "metadata": {},
   "outputs": [
    {
     "name": "stdout",
     "output_type": "stream",
     "text": [
      "[0, 2, 4, 6, 8, 10, 12, 14, 16, 18]\n",
      "[19, 18, 17, 16, 15, 14, 13, 12, 11, 10, 9, 8, 7, 6, 5, 4, 3, 2, 1, 0]\n"
     ]
    }
   ],
   "source": [
    "numbers = list(range(20))\n",
    "print(numbers[::2])  # skips every second item\n",
    "print(numbers[::-1])"
   ]
  },
  {
   "cell_type": "markdown",
   "id": "40a0c8b3",
   "metadata": {},
   "source": [
    "3. ### Unpacking List"
   ]
  },
  {
   "cell_type": "code",
   "execution_count": null,
   "id": "b318d40c",
   "metadata": {},
   "outputs": [],
   "source": [
    "numbers = [1,2,3]\n",
    "first = numbers[0]\n",
    "second = numbers[1]\n",
    "third = numbers[2]\n",
    "\n",
    "# Efficient way :\n",
    "\n",
    "first, second, third = numbers \n",
    "print(first)\n",
    "print(second)\n",
    "\n",
    "#caution: variable and vaule should be equal \n",
    " "
   ]
  },
  {
   "cell_type": "code",
   "execution_count": 6,
   "id": "18157303",
   "metadata": {},
   "outputs": [
    {
     "name": "stdout",
     "output_type": "stream",
     "text": [
      "1\n",
      "2\n",
      "[3, 4, 4, 4, 4, 2, 2, 111]\n"
     ]
    }
   ],
   "source": [
    "numbers = [1,2,3,4,4,4,4,2,2,111]\n",
    "\n",
    "first, second, *other = numbers  # rest of will go to \"other\" list\n",
    "print(first)\n",
    "print(second)\n",
    "print(other)"
   ]
  },
  {
   "cell_type": "code",
   "execution_count": 7,
   "id": "b96a6be9",
   "metadata": {},
   "outputs": [
    {
     "name": "stdout",
     "output_type": "stream",
     "text": [
      "1 111\n",
      "[2, 3, 4, 4, 4, 4, 2, 2]\n"
     ]
    }
   ],
   "source": [
    "first , *other, last = numbers\n",
    "print(first, last)\n",
    "print(other)"
   ]
  },
  {
   "cell_type": "markdown",
   "id": "da81ffea",
   "metadata": {},
   "source": [
    "4. ### Looping over lists"
   ]
  },
  {
   "cell_type": "code",
   "execution_count": 9,
   "id": "ee34e83b",
   "metadata": {},
   "outputs": [
    {
     "name": "stdout",
     "output_type": "stream",
     "text": [
      "a\n",
      "b\n",
      "c\n"
     ]
    }
   ],
   "source": [
    "letters = ['a', 'b', 'c']\n",
    "\n",
    "for item in letters:\n",
    "    print(item)"
   ]
  },
  {
   "cell_type": "code",
   "execution_count": 11,
   "id": "7775269b",
   "metadata": {},
   "outputs": [
    {
     "name": "stdout",
     "output_type": "stream",
     "text": [
      "(0, 'a')\n",
      "(1, 'b')\n",
      "(2, 'c')\n"
     ]
    }
   ],
   "source": [
    "# enumerate function\n",
    "# it gives a tuple : (index, value)\n",
    "\n",
    "letters = ['a', 'b', 'c']\n",
    "\n",
    "for item in enumerate(letters):\n",
    "    print(item)"
   ]
  },
  {
   "cell_type": "code",
   "execution_count": 15,
   "id": "d5fb43a1",
   "metadata": {},
   "outputs": [
    {
     "name": "stdout",
     "output_type": "stream",
     "text": [
      "0 a\n",
      "1 b\n",
      "2 c\n"
     ]
    }
   ],
   "source": [
    "# excercise\n",
    "\n",
    "letters = ['a', 'b', 'c']\n",
    "\n",
    "for index, item in enumerate(letters):\n",
    "    print(index, item)\n",
    "    "
   ]
  },
  {
   "cell_type": "markdown",
   "id": "8d1f19e1",
   "metadata": {},
   "source": [
    "5. ### Ading or removing item from list"
   ]
  },
  {
   "cell_type": "code",
   "execution_count": null,
   "id": "333fa100",
   "metadata": {},
   "outputs": [
    {
     "name": "stdout",
     "output_type": "stream",
     "text": [
      "['a', 'b', 'c', 'd']\n",
      "['e', 'a', 'b', 'c', 'd']\n",
      "['e', 'a', 'e', 'b', 'c', 'd']\n",
      "['e', 'a', 'e', 'b', 'c']\n",
      "['e', 'a', 'b', 'c']\n",
      "['e', 'a', 'b']\n"
     ]
    }
   ],
   "source": [
    "letters = ['a', 'b', 'c'] \n",
    "\n",
    "letters.append('d')  # to add item at the end of the list\n",
    "print(letters)\n",
    "\n",
    "letters.insert(0, 'e')  # to add at specific index\n",
    "print(letters)\n",
    "    \n",
    "letters.insert(2, 'e')\n",
    "print(letters)\n",
    "\n",
    "letters.pop()  # to remove the last element\n",
    "print(letters)\n",
    "\n",
    "letters.pop(2)  # to remove the specific element\n",
    "print(letters)\n",
    "\n",
    "letters.remove('c')  #removes the first occurance of \"b\"\n",
    "print(letters)\n",
    "\n"
   ]
  },
  {
   "cell_type": "code",
   "execution_count": 37,
   "id": "fa2b4642",
   "metadata": {},
   "outputs": [
    {
     "name": "stdout",
     "output_type": "stream",
     "text": [
      "['b', 'c', 'd']\n"
     ]
    }
   ],
   "source": [
    "letters = ['a', 'b', 'c', 'd']\n",
    "\n",
    "del letters[0]\n",
    "print(letters)"
   ]
  },
  {
   "cell_type": "code",
   "execution_count": 35,
   "id": "70aef33f",
   "metadata": {},
   "outputs": [
    {
     "name": "stdout",
     "output_type": "stream",
     "text": [
      "['c', 'd']\n"
     ]
    }
   ],
   "source": [
    "letters = ['a', 'b', 'c', 'd']\n",
    "\n",
    "del letters[0:2]\n",
    "print(letters)"
   ]
  },
  {
   "cell_type": "code",
   "execution_count": 36,
   "id": "94e69be8",
   "metadata": {},
   "outputs": [
    {
     "name": "stdout",
     "output_type": "stream",
     "text": [
      "[]\n"
     ]
    }
   ],
   "source": [
    "letters = ['a', 'b', 'c', 'd']\n",
    "\n",
    "letters.clear()\n",
    "print(letters)"
   ]
  },
  {
   "cell_type": "markdown",
   "id": "13b86bf5",
   "metadata": {},
   "source": [
    "6. ### Finding items"
   ]
  },
  {
   "cell_type": "code",
   "execution_count": 38,
   "id": "a143b327",
   "metadata": {},
   "outputs": [
    {
     "name": "stdout",
     "output_type": "stream",
     "text": [
      "0\n",
      "1\n"
     ]
    }
   ],
   "source": [
    "letters = ['a', 'b', 'c', 'd']\n",
    "\n",
    "print(letters.index('a'))\n",
    "print(letters.index('b'))"
   ]
  },
  {
   "cell_type": "code",
   "execution_count": 39,
   "id": "cefb51d8",
   "metadata": {},
   "outputs": [
    {
     "name": "stdout",
     "output_type": "stream",
     "text": [
      "2\n",
      "1\n",
      "3\n",
      "0\n"
     ]
    }
   ],
   "source": [
    "# find the total occurence of a item in a list\n",
    "\n",
    "letters = ['a', 'a', 'b', 'c', 'd', 'e', 'e', 'e']\n",
    "\n",
    "print(letters.count('a'))\n",
    "print(letters.count('b'))\n",
    "print(letters.count('e'))\n",
    "print(letters.count('s'))"
   ]
  },
  {
   "cell_type": "markdown",
   "id": "386cd091",
   "metadata": {},
   "source": [
    "7. ### Sorting list"
   ]
  },
  {
   "cell_type": "code",
   "execution_count": 42,
   "id": "3dbe532d",
   "metadata": {},
   "outputs": [
    {
     "name": "stdout",
     "output_type": "stream",
     "text": [
      "[2, 3, 3, 3, 5, 5, 9, 12, 22, 43, 65]\n",
      "[65, 43, 22, 12, 9, 5, 5, 3, 3, 3, 2]\n"
     ]
    }
   ],
   "source": [
    "numbers = [3, 5, 2, 22, 3, 5, 12, 43, 65, 3, 9]\n",
    " \n",
    "numbers.sort()       # modifies the current list\n",
    "print(numbers) \n",
    "\n",
    "# for descending order\n",
    "\n",
    "numbers.sort(reverse= True)\n",
    "print(numbers)"
   ]
  },
  {
   "cell_type": "code",
   "execution_count": null,
   "id": "146ec771",
   "metadata": {},
   "outputs": [
    {
     "name": "stdout",
     "output_type": "stream",
     "text": [
      "[2, 3, 3, 3, 5, 5, 9, 12, 22, 43, 65]\n",
      "[65, 43, 22, 12, 9, 5, 5, 3, 3, 3, 2]\n"
     ]
    }
   ],
   "source": [
    "# If we dont like to modify the current list:\n",
    "\n",
    "numbers = [3, 5, 2, 22, 3, 5, 12, 43, 65, 3, 9]\n",
    "\n",
    "print(sorted(numbers))           \n",
    "print(sorted(numbers, reverse= True))\n",
    "\n",
    "# This sorted method will provide e new list without changing the existing list"
   ]
  },
  {
   "cell_type": "code",
   "execution_count": 53,
   "id": "d59f420a",
   "metadata": {},
   "outputs": [
    {
     "name": "stdout",
     "output_type": "stream",
     "text": [
      "[('product1', 10), ('product3', 23), ('product2', 353)]\n"
     ]
    }
   ],
   "source": [
    "# Create a list of tuples, where each tuple contains a product name and its price\n",
    "\n",
    "items = [\n",
    "    (\"product1\", 10),\n",
    "    (\"product2\", 353),\n",
    "    (\"product3\", 23)\n",
    "]\n",
    "\n",
    "# Define a function that takes a tuple and returns the second element (price)\n",
    "\n",
    "def sort_tuple(i):\n",
    "    return i[1]\n",
    "\n",
    "# Sort the 'items' list in-place using the 'sort_tuple' function as the key\n",
    "# This sorts the list based on the price (i.e., the second element of each tuple)\n",
    "\n",
    "items.sort(key = sort_tuple)\n",
    "print(items)\n"
   ]
  },
  {
   "cell_type": "markdown",
   "id": "ef79fd64",
   "metadata": {},
   "source": [
    "8. ### Lambda functions"
   ]
  },
  {
   "cell_type": "markdown",
   "id": "dd8caac1",
   "metadata": {},
   "source": [
    "A lambda function is a small, anonymous function defined using the lambda keyword. It's typically used when you need a simple function for a short period of time, especially as an argument to higher-order functions like sort(), map(), or filter()."
   ]
  },
  {
   "cell_type": "code",
   "execution_count": null,
   "id": "56f2bcb9",
   "metadata": {},
   "outputs": [],
   "source": [
    "# syntax:\n",
    "\n",
    "lambda arguments: expression\n"
   ]
  },
  {
   "cell_type": "code",
   "execution_count": null,
   "id": "77548bbd",
   "metadata": {},
   "outputs": [],
   "source": []
  }
 ],
 "metadata": {
  "kernelspec": {
   "display_name": ".venv",
   "language": "python",
   "name": "python3"
  },
  "language_info": {
   "codemirror_mode": {
    "name": "ipython",
    "version": 3
   },
   "file_extension": ".py",
   "mimetype": "text/x-python",
   "name": "python",
   "nbconvert_exporter": "python",
   "pygments_lexer": "ipython3",
   "version": "3.13.7"
  }
 },
 "nbformat": 4,
 "nbformat_minor": 5
}
